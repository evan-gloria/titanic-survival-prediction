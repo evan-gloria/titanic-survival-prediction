{
 "cells": [
  {
   "cell_type": "code",
   "execution_count": 1,
   "id": "6fe9a963",
   "metadata": {},
   "outputs": [],
   "source": [
    "import pandas as pd\n",
    "import numpy as np\n",
    "import matplotlib.pyplot as plt\n",
    "import seaborn as sns\n",
    "import os"
   ]
  },
  {
   "cell_type": "code",
   "execution_count": null,
   "id": "ea83bef8",
   "metadata": {},
   "outputs": [],
   "source": [
    "# Recreate the preprocess, but only use the logic from the best model so far \n",
    "\n",
    "def preprocess_features_best(df):\n",
    "    # 1. Fill missing Age and Fare using training medians\n",
    "    df['Age'] = df.groupby(['Pclass', 'Sex'])['Age'].transform(\n",
    "        lambda x: x.fillna(x.median())\n",
    "    )\n",
    "\n",
    "    # Fill missing Fare BEFORE log transform\n",
    "    df['Fare'] = df.groupby(['Pclass', 'Sex'])['Fare'].transform(\n",
    "        lambda x: x.fillna(x.median())\n",
    "    )\n",
    "    \n",
    "    # 2. Log transform Fare\n",
    "    df['Fare_log'] = df['Fare'].apply(lambda x: np.log(x + 1))\n",
    "\n",
    "    # 3. Create FamilySize\n",
    "    df['FamilySize'] = df['SibSp'] + df['Parch'] + 1\n",
    "\n",
    "    # 4. Create FamilySizeGroup (manual binning)\n",
    "    def bin_family_size(size):\n",
    "        if size == 1:\n",
    "            return 'Alone'\n",
    "        elif size <= 4:\n",
    "            return 'Small'\n",
    "        else:\n",
    "            return 'Large'\n",
    "    df['FamilySizeGroup'] = df['FamilySize'].apply(bin_family_size)\n",
    "\n",
    "    # 5. Fill missing Embarked (if any) This is required for doing one-hot encoding\n",
    "    df['Embarked'] = df['Embarked'].fillna(df['Embarked'].mode()[0])\n",
    "\n",
    "    # 6. Extract Title from Name\n",
    "    \n",
    "    # Extract title using regex\n",
    "    df['Title'] = df['Name'].str.extract(r',\\s*([^\\.]*)\\s*\\.', expand=False)\n",
    "    \n",
    "    df['Title'] = df['Title'].replace(\" \",\"_\")\n",
    "    # Optional: consolidate rare titles\n",
    "    df['Title'] = df['Title'].replace({\n",
    "        'Mlle': 'Miss', 'Ms': 'Miss', 'Mme': 'Mrs',\n",
    "        'Lady': 'Rare', 'the Countess': 'Rare', 'Capt': 'Rare', 'Col': 'Rare',\n",
    "        'Don': 'Rare', 'Dr': 'Rare', 'Major': 'Rare', 'Rev': 'Rare',\n",
    "        'Sir': 'Rare', 'Jonkheer': 'Rare', 'Dona': 'Rare'\n",
    "    })\n",
    "\n",
    "    # 7. Create SoloTraveller\n",
    "    df['SoloTraveller'] = (df['FamilySize'] == 1).astype(int)\n",
    "\n",
    "    # 8. Create Fare_per_person\n",
    "    df['Fare_per_person'] = df['Fare'] / df['FamilySize']\n",
    "\n",
    "    # Fill missing or infinite values\n",
    "    df['Fare_per_person'] = df['Fare_per_person'].replace([np.inf, -np.inf], np.nan)\n",
    "    df['Fare_per_person'] = df.groupby(['Pclass', 'Sex'])['Fare_per_person'].transform(\n",
    "        lambda x: x.fillna(x.median())\n",
    "    )\n",
    "\n",
    "    # Optional: log transform to normalize\n",
    "    df['Fare_per_person_log'] = np.log(df['Fare_per_person'] + 1)\n",
    "\n",
    "    # 9. Create PClass x Fare (log)\n",
    "    df['Pclass_Fare'] = df['Pclass'] * df['Fare_per_person_log']\n",
    "    df['Pclass_Fare'] = df.groupby(['Pclass', 'Sex'])['Pclass_Fare'].transform(\n",
    "        lambda x: x.fillna(x.median())\n",
    "    )\n",
    "\n",
    "    # 10. Create PClass x Title\n",
    "    df['Pclass_Title'] = df['Pclass'].astype(str) + \"_\" + df['Title']\n",
    "    df['Pclass_Title'] = df['Pclass_Title'].str.replace(' ', '_')\n",
    "\n",
    "    # One-hot encode for categorical fields\n",
    "    df = pd.get_dummies(df, columns=['Sex', 'Embarked', 'FamilySizeGroup', 'Title', 'SoloTraveller','Pclass_Title'], drop_first=True)\n",
    "\n",
    "    bool_cols = df.select_dtypes(include='bool').columns\n",
    "    df[bool_cols] = df[bool_cols].astype(int)\n",
    "\n",
    "    # Drop unused columns (optional)\n",
    "    drop_cols = ['Name', 'Ticket', 'Cabin', 'Fare', 'SibSp', 'Parch', 'PassengerId','Fare_per_person']\n",
    "\n",
    "    df = df.drop(columns=[col for col in drop_cols if col in df.columns], errors='ignore')\n",
    "\n",
    "    return df"
   ]
  },
  {
   "cell_type": "code",
   "execution_count": 3,
   "id": "7a94b4db",
   "metadata": {},
   "outputs": [],
   "source": [
    "train_raw = pd.read_csv(os.path.join(os.pardir,\"data\",\"train.csv\"))\n",
    "test = pd.read_csv(os.path.join(os.pardir,\"data\",\"test.csv\"))\n",
    "\n",
    "train_cleaned = preprocess_features_best(train_raw.copy())\n",
    "test_cleaned = preprocess_features_best(test.copy())"
   ]
  },
  {
   "cell_type": "code",
   "execution_count": 4,
   "id": "f41aa417",
   "metadata": {},
   "outputs": [],
   "source": [
    "from sklearn.model_selection import train_test_split\n",
    "\n",
    "X = train_cleaned.drop(columns='Survived')\n",
    "y = train_cleaned['Survived']\n",
    "\n",
    "X_train, X_valid, y_train, y_valid = train_test_split(\n",
    "    X, y, test_size=0.2, random_state=42, stratify=y\n",
    ")"
   ]
  },
  {
   "cell_type": "code",
   "execution_count": 5,
   "id": "bdc2efa3",
   "metadata": {},
   "outputs": [],
   "source": [
    "from sklearn.ensemble import RandomForestClassifier\n",
    "from sklearn.metrics import accuracy_score, classification_report, confusion_matrix\n",
    "\n",
    "# Initialize model\n",
    "rf_model = RandomForestClassifier(\n",
    "    n_estimators=100,      # number of trees\n",
    "    max_depth=5,           # control overfitting\n",
    "    random_state=42\n",
    ")\n",
    "\n",
    "# Train\n",
    "rf_model.fit(X_train, y_train)\n",
    "\n",
    "# Predict\n",
    "rf_preds = rf_model.predict(X_valid)"
   ]
  },
  {
   "cell_type": "code",
   "execution_count": 6,
   "id": "8c4b2619",
   "metadata": {},
   "outputs": [
    {
     "name": "stdout",
     "output_type": "stream",
     "text": [
      "Accuracy: 0.8100558659217877\n",
      "Confusion Matrix:\n",
      " [[96 14]\n",
      " [20 49]]\n",
      "Classification Report:\n",
      "               precision    recall  f1-score   support\n",
      "\n",
      "           0       0.83      0.87      0.85       110\n",
      "           1       0.78      0.71      0.74        69\n",
      "\n",
      "    accuracy                           0.81       179\n",
      "   macro avg       0.80      0.79      0.80       179\n",
      "weighted avg       0.81      0.81      0.81       179\n",
      "\n"
     ]
    }
   ],
   "source": [
    "print(\"Accuracy:\", accuracy_score(y_valid, rf_preds))\n",
    "print(\"Confusion Matrix:\\n\", confusion_matrix(y_valid, rf_preds))\n",
    "print(\"Classification Report:\\n\", classification_report(y_valid, rf_preds))"
   ]
  },
  {
   "cell_type": "code",
   "execution_count": 7,
   "id": "aa200f4d",
   "metadata": {},
   "outputs": [
    {
     "name": "stdout",
     "output_type": "stream",
     "text": [
      "CV Accuracy (mean): 0.8271420500910175\n"
     ]
    }
   ],
   "source": [
    "from sklearn.model_selection import cross_val_score\n",
    "\n",
    "cv_scores = cross_val_score(rf_model, X, y, cv=5)\n",
    "print(\"CV Accuracy (mean):\", cv_scores.mean())"
   ]
  },
  {
   "cell_type": "code",
   "execution_count": 8,
   "id": "199fd814",
   "metadata": {},
   "outputs": [],
   "source": [
    "# Predict on test data\n",
    "test_df = pd.read_csv(os.path.join(os.pardir,\"data\",\"test.csv\"))\n",
    "\n",
    "# Align test features\n",
    "X_test = test_cleaned[X.columns]  # ensure same columns and order\n",
    "\n",
    "test_preds_rf = rf_model.predict(X_test)\n",
    "\n",
    "submission_rf = pd.DataFrame({\n",
    "    'PassengerId': test_df['PassengerId'],\n",
    "    'Survived': test_preds_rf\n",
    "})\n",
    "\n",
    "submission_rf.to_csv(r'../models/random-forest/submission_rf.csv', index=False)"
   ]
  }
 ],
 "metadata": {
  "kernelspec": {
   "display_name": ".ds_venv",
   "language": "python",
   "name": "python3"
  },
  "language_info": {
   "codemirror_mode": {
    "name": "ipython",
    "version": 3
   },
   "file_extension": ".py",
   "mimetype": "text/x-python",
   "name": "python",
   "nbconvert_exporter": "python",
   "pygments_lexer": "ipython3",
   "version": "3.13.3"
  }
 },
 "nbformat": 4,
 "nbformat_minor": 5
}
