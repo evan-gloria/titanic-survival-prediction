{
 "cells": [
  {
   "cell_type": "code",
   "execution_count": 1,
   "id": "c6f07edc",
   "metadata": {},
   "outputs": [],
   "source": [
    "import pandas as pd\n",
    "import numpy as np\n",
    "import matplotlib.pyplot as plt\n",
    "import seaborn as sns\n",
    "import os"
   ]
  },
  {
   "cell_type": "code",
   "execution_count": 2,
   "id": "fc2af9e5",
   "metadata": {},
   "outputs": [],
   "source": [
    "train_df = pd.read_csv(os.path.join(os.pardir,\"data\",\"train_cleaned.csv\"))\n",
    "\n",
    "low_mi_cols = [\n",
    "    'Title_Rare', 'Embarked_Q', 'Deck_G', 'Deck_F', 'Deck_C',\n",
    "    'Pclass_Title_3_Master', 'Pclass_Title_3_Mrs',\n",
    "    'Pclass_Title_1_Rare', 'Pclass_Title_2_Rare'\n",
    "]\n",
    "\n",
    "train_df_filtered = train_df.drop(columns=low_mi_cols, errors='ignore')\n",
    "\n",
    "# Define features and target\n",
    "X = train_df_filtered.drop(columns='Survived')\n",
    "y = train_df_filtered['Survived']"
   ]
  },
  {
   "cell_type": "code",
   "execution_count": 3,
   "id": "0efa13a4",
   "metadata": {},
   "outputs": [],
   "source": [
    "from sklearn.model_selection import train_test_split\n",
    "\n",
    "X_train, X_valid, y_train, y_valid = train_test_split(\n",
    "    X, y, test_size=0.2, random_state=42, stratify=y\n",
    ")"
   ]
  },
  {
   "cell_type": "code",
   "execution_count": 4,
   "id": "dad773f2",
   "metadata": {},
   "outputs": [
    {
     "name": "stdout",
     "output_type": "stream",
     "text": [
      "Accuracy: 0.8324022346368715\n",
      "Confusion Matrix:\n",
      " [[100  10]\n",
      " [ 20  49]]\n",
      "Classification Report:\n",
      "               precision    recall  f1-score   support\n",
      "\n",
      "           0       0.83      0.91      0.87       110\n",
      "           1       0.83      0.71      0.77        69\n",
      "\n",
      "    accuracy                           0.83       179\n",
      "   macro avg       0.83      0.81      0.82       179\n",
      "weighted avg       0.83      0.83      0.83       179\n",
      "\n"
     ]
    }
   ],
   "source": [
    "from sklearn.linear_model import LogisticRegression\n",
    "from sklearn.metrics import accuracy_score, confusion_matrix, classification_report\n",
    "\n",
    "model = LogisticRegression(max_iter=1000, random_state=42)\n",
    "model.fit(X_train, y_train)\n",
    "\n",
    "# Predict on validation set\n",
    "y_pred = model.predict(X_valid)\n",
    "\n",
    "# Evaluate\n",
    "print(\"Accuracy:\", accuracy_score(y_valid, y_pred))\n",
    "print(\"Confusion Matrix:\\n\", confusion_matrix(y_valid, y_pred))\n",
    "print(\"Classification Report:\\n\", classification_report(y_valid, y_pred))"
   ]
  },
  {
   "cell_type": "code",
   "execution_count": 5,
   "id": "7f0412fe",
   "metadata": {},
   "outputs": [
    {
     "name": "stdout",
     "output_type": "stream",
     "text": [
      "CV Accuracy (mean): 0.8249262444291006\n"
     ]
    }
   ],
   "source": [
    "from sklearn.model_selection import cross_val_score\n",
    "\n",
    "cv_scores = cross_val_score(model, X, y, cv=5)\n",
    "print(\"CV Accuracy (mean):\", cv_scores.mean())"
   ]
  },
  {
   "cell_type": "code",
   "execution_count": 6,
   "id": "b9cca2bf",
   "metadata": {},
   "outputs": [],
   "source": [
    "# Predict on test data\n",
    "test_cleaned = pd.read_csv(os.path.join(os.pardir,\"data\",\"test_cleaned.csv\"))\n",
    "test_df = pd.read_csv(os.path.join(os.pardir,\"data\",\"test.csv\"))\n",
    "\n",
    "# Align test features\n",
    "X_test = test_cleaned[X.columns]  # ensure same columns and order\n",
    "\n",
    "# Predict\n",
    "test_preds = model.predict(X_test)\n",
    "\n",
    "# Submit\n",
    "submission = pd.DataFrame({\n",
    "    'PassengerId': test_df['PassengerId'],\n",
    "    'Survived': test_preds\n",
    "})\n",
    "submission.to_csv(r'../models/logistic-regression/submission.csv', index=False)"
   ]
  }
 ],
 "metadata": {
  "kernelspec": {
   "display_name": ".ds_venv",
   "language": "python",
   "name": "python3"
  },
  "language_info": {
   "codemirror_mode": {
    "name": "ipython",
    "version": 3
   },
   "file_extension": ".py",
   "mimetype": "text/x-python",
   "name": "python",
   "nbconvert_exporter": "python",
   "pygments_lexer": "ipython3",
   "version": "3.13.3"
  }
 },
 "nbformat": 4,
 "nbformat_minor": 5
}
