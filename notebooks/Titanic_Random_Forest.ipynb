{
 "cells": [
  {
   "cell_type": "code",
   "execution_count": 1,
   "id": "f40c5bf5",
   "metadata": {},
   "outputs": [],
   "source": [
    "import pandas as pd\n",
    "import numpy as np\n",
    "import matplotlib.pyplot as plt\n",
    "import seaborn as sns\n",
    "import os"
   ]
  },
  {
   "cell_type": "code",
   "execution_count": 2,
   "id": "28a19bc3",
   "metadata": {},
   "outputs": [],
   "source": [
    "train_df = pd.read_csv(os.path.join(os.pardir,\"data\",\"train_cleaned.csv\"))\n",
    "\n",
    "# Define features and target\n",
    "X = train_df.drop(columns='Survived')\n",
    "y = train_df['Survived']"
   ]
  },
  {
   "cell_type": "code",
   "execution_count": 3,
   "id": "7469434e",
   "metadata": {},
   "outputs": [],
   "source": [
    "from sklearn.model_selection import train_test_split\n",
    "\n",
    "X_train, X_valid, y_train, y_valid = train_test_split(\n",
    "    X, y, test_size=0.2, random_state=42, stratify=y\n",
    ")"
   ]
  },
  {
   "cell_type": "code",
   "execution_count": 4,
   "id": "708e586b",
   "metadata": {},
   "outputs": [],
   "source": [
    "from sklearn.ensemble import RandomForestClassifier\n",
    "from sklearn.metrics import accuracy_score, classification_report, confusion_matrix\n",
    "\n",
    "# Initialize model\n",
    "rf_model = RandomForestClassifier(\n",
    "    n_estimators=100,      # number of trees\n",
    "    max_depth=5,           # control overfitting\n",
    "    random_state=42\n",
    ")\n",
    "\n",
    "# Train\n",
    "rf_model.fit(X_train, y_train)\n",
    "\n",
    "# Predict\n",
    "rf_preds = rf_model.predict(X_valid)"
   ]
  },
  {
   "cell_type": "code",
   "execution_count": 5,
   "id": "24f9db35",
   "metadata": {},
   "outputs": [
    {
     "name": "stdout",
     "output_type": "stream",
     "text": [
      "Accuracy: 0.7932960893854749\n",
      "Confusion Matrix:\n",
      " [[94 16]\n",
      " [21 48]]\n",
      "Classification Report:\n",
      "               precision    recall  f1-score   support\n",
      "\n",
      "           0       0.82      0.85      0.84       110\n",
      "           1       0.75      0.70      0.72        69\n",
      "\n",
      "    accuracy                           0.79       179\n",
      "   macro avg       0.78      0.78      0.78       179\n",
      "weighted avg       0.79      0.79      0.79       179\n",
      "\n"
     ]
    }
   ],
   "source": [
    "print(\"Accuracy:\", accuracy_score(y_valid, rf_preds))\n",
    "print(\"Confusion Matrix:\\n\", confusion_matrix(y_valid, rf_preds))\n",
    "print(\"Classification Report:\\n\", classification_report(y_valid, rf_preds))"
   ]
  },
  {
   "cell_type": "code",
   "execution_count": 6,
   "id": "c0659a94",
   "metadata": {},
   "outputs": [
    {
     "name": "stdout",
     "output_type": "stream",
     "text": [
      "CV Accuracy (mean): 0.8248948590797817\n"
     ]
    }
   ],
   "source": [
    "from sklearn.model_selection import cross_val_score\n",
    "\n",
    "cv_scores = cross_val_score(rf_model, X, y, cv=5)\n",
    "print(\"CV Accuracy (mean):\", cv_scores.mean())"
   ]
  },
  {
   "cell_type": "code",
   "execution_count": 7,
   "id": "2bbd7088",
   "metadata": {},
   "outputs": [],
   "source": [
    "# Predict on test data\n",
    "test_cleaned = pd.read_csv(os.path.join(os.pardir,\"data\",\"test_cleaned.csv\"))\n",
    "test_df = pd.read_csv(os.path.join(os.pardir,\"data\",\"test.csv\"))\n",
    "test_preds = rf_model.predict(test_cleaned)\n",
    "\n",
    "test_preds_rf = rf_model.predict(test_cleaned)\n",
    "\n",
    "submission_rf = pd.DataFrame({\n",
    "    'PassengerId': test_df['PassengerId'],\n",
    "    'Survived': test_preds_rf\n",
    "})\n",
    "\n",
    "submission_rf.to_csv(r'../models/random-forest/submission_rf.csv', index=False)"
   ]
  }
 ],
 "metadata": {
  "kernelspec": {
   "display_name": ".ds_venv",
   "language": "python",
   "name": "python3"
  },
  "language_info": {
   "codemirror_mode": {
    "name": "ipython",
    "version": 3
   },
   "file_extension": ".py",
   "mimetype": "text/x-python",
   "name": "python",
   "nbconvert_exporter": "python",
   "pygments_lexer": "ipython3",
   "version": "3.13.3"
  }
 },
 "nbformat": 4,
 "nbformat_minor": 5
}
