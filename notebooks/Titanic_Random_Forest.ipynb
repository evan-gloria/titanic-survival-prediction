{
 "cells": [
  {
   "cell_type": "code",
   "execution_count": 1,
   "id": "f40c5bf5",
   "metadata": {},
   "outputs": [],
   "source": [
    "import pandas as pd\n",
    "import numpy as np\n",
    "import matplotlib.pyplot as plt\n",
    "import seaborn as sns\n",
    "import os"
   ]
  },
  {
   "cell_type": "code",
   "execution_count": 2,
   "id": "28a19bc3",
   "metadata": {},
   "outputs": [],
   "source": [
    "train_df = pd.read_csv(os.path.join(os.pardir,\"data\",\"train_cleaned.csv\"))\n",
    "\n",
    "# Define features and target\n",
    "X = train_df.drop(columns='Survived')\n",
    "y = train_df['Survived']"
   ]
  },
  {
   "cell_type": "code",
   "execution_count": 3,
   "id": "7469434e",
   "metadata": {},
   "outputs": [],
   "source": [
    "from sklearn.model_selection import train_test_split\n",
    "\n",
    "X_train, X_valid, y_train, y_valid = train_test_split(\n",
    "    X, y, test_size=0.2, random_state=42, stratify=y\n",
    ")"
   ]
  },
  {
   "cell_type": "code",
   "execution_count": 4,
   "id": "708e586b",
   "metadata": {},
   "outputs": [],
   "source": [
    "from sklearn.ensemble import RandomForestClassifier\n",
    "from sklearn.metrics import accuracy_score, classification_report, confusion_matrix\n",
    "\n",
    "# Initialize model\n",
    "rf_model = RandomForestClassifier(\n",
    "    n_estimators=100,      # number of trees\n",
    "    max_depth=5,           # control overfitting\n",
    "    random_state=42\n",
    ")\n",
    "\n",
    "# Train\n",
    "rf_model.fit(X_train, y_train)\n",
    "\n",
    "# Predict\n",
    "rf_preds = rf_model.predict(X_valid)"
   ]
  },
  {
   "cell_type": "code",
   "execution_count": 5,
   "id": "24f9db35",
   "metadata": {},
   "outputs": [
    {
     "name": "stdout",
     "output_type": "stream",
     "text": [
      "Accuracy: 0.7932960893854749\n",
      "Confusion Matrix:\n",
      " [[101   9]\n",
      " [ 28  41]]\n",
      "Classification Report:\n",
      "               precision    recall  f1-score   support\n",
      "\n",
      "           0       0.78      0.92      0.85       110\n",
      "           1       0.82      0.59      0.69        69\n",
      "\n",
      "    accuracy                           0.79       179\n",
      "   macro avg       0.80      0.76      0.77       179\n",
      "weighted avg       0.80      0.79      0.79       179\n",
      "\n"
     ]
    }
   ],
   "source": [
    "print(\"Accuracy:\", accuracy_score(y_valid, rf_preds))\n",
    "print(\"Confusion Matrix:\\n\", confusion_matrix(y_valid, rf_preds))\n",
    "print(\"Classification Report:\\n\", classification_report(y_valid, rf_preds))"
   ]
  },
  {
   "cell_type": "code",
   "execution_count": 6,
   "id": "c0659a94",
   "metadata": {},
   "outputs": [
    {
     "name": "stdout",
     "output_type": "stream",
     "text": [
      "CV Accuracy (mean): 0.8193333751804657\n"
     ]
    }
   ],
   "source": [
    "from sklearn.model_selection import cross_val_score\n",
    "\n",
    "cv_scores = cross_val_score(rf_model, X, y, cv=5)\n",
    "print(\"CV Accuracy (mean):\", cv_scores.mean())"
   ]
  },
  {
   "cell_type": "markdown",
   "id": "e161f55a",
   "metadata": {},
   "source": [
    "## Random Forest Model Evaluation\n",
    "\n",
    "### Accuracy\n",
    "\n",
    "- **Validation Accuracy**: `79.3%`\n",
    "- **Cross-Validation Accuracy (mean)**: `81.9%`\n",
    "\n",
    "---\n",
    "\n",
    "### Confusion Matrix\n",
    "\n",
    "| Actual / Predicted | Predicted 0 | Predicted 1 |\n",
    "|--------------------|-------------|-------------|\n",
    "| Actual 0 (Died)    | 101         | 9           |\n",
    "| Actual 1 (Survived)| 28          | 41          |\n",
    "\n",
    "---\n",
    "\n",
    "### Classification Report\n",
    "\n",
    "| Class | Precision | Recall | F1-Score | Support |\n",
    "|-------|-----------|--------|----------|---------|\n",
    "| 0 (Died)     | 0.78      | **0.92** | 0.85     | 110     |\n",
    "| 1 (Survived) | **0.82**  | 0.59     | 0.69     | 69      |\n",
    "\n",
    "- **High precision** for survivors (fewer false positives)\n",
    "- **Lower recall** for survivors (more missed survivors)\n",
    "\n",
    "---\n",
    "\n",
    "### Comparison with Logistic Regression\n",
    "\n",
    "| Metric         | Logistic Regression | Random Forest | Notes                             |\n",
    "|----------------|---------------------|----------------|-----------------------------------|\n",
    "| Accuracy       | **81.0%**           | 79.3%          | LR slightly better on validation  |\n",
    "| CV Accuracy    | 81.4%               | **81.9%**      | RF better generalization          |\n",
    "| Precision (1)  | 0.78                | **0.82**       | RF makes fewer false positives    |\n",
    "| Recall (1)     | **0.71**            | 0.59           | LR detects more survivors         |"
   ]
  },
  {
   "cell_type": "code",
   "execution_count": 7,
   "id": "2bbd7088",
   "metadata": {},
   "outputs": [],
   "source": [
    "# Predict on test data\n",
    "test_cleaned = pd.read_csv(os.path.join(os.pardir,\"data\",\"test_cleaned.csv\"))\n",
    "test_df = pd.read_csv(os.path.join(os.pardir,\"data\",\"test.csv\"))\n",
    "test_preds = rf_model.predict(test_cleaned)\n",
    "\n",
    "test_preds_rf = rf_model.predict(test_cleaned)\n",
    "\n",
    "submission_rf = pd.DataFrame({\n",
    "    'PassengerId': test_df['PassengerId'],\n",
    "    'Survived': test_preds_rf\n",
    "})\n",
    "\n",
    "submission_rf.to_csv(r'../models/random-forest/submission_rf.csv', index=False)"
   ]
  }
 ],
 "metadata": {
  "kernelspec": {
   "display_name": ".ds_venv",
   "language": "python",
   "name": "python3"
  },
  "language_info": {
   "codemirror_mode": {
    "name": "ipython",
    "version": 3
   },
   "file_extension": ".py",
   "mimetype": "text/x-python",
   "name": "python",
   "nbconvert_exporter": "python",
   "pygments_lexer": "ipython3",
   "version": "3.13.3"
  }
 },
 "nbformat": 4,
 "nbformat_minor": 5
}
