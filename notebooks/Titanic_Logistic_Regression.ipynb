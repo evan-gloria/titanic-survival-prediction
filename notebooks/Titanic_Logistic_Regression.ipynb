{
 "cells": [
  {
   "cell_type": "code",
   "execution_count": 1,
   "id": "9aa51a82",
   "metadata": {},
   "outputs": [],
   "source": [
    "import pandas as pd\n",
    "import numpy as np\n",
    "import matplotlib.pyplot as plt\n",
    "import seaborn as sns\n",
    "import os"
   ]
  },
  {
   "cell_type": "code",
   "execution_count": 2,
   "id": "a5506b49",
   "metadata": {},
   "outputs": [],
   "source": [
    "train_df = pd.read_csv(os.path.join(os.pardir,\"data\",\"train_cleaned.csv\"))\n",
    "\n",
    "# Define features and target\n",
    "X = train_df.drop(columns='Survived')\n",
    "y = train_df['Survived']"
   ]
  },
  {
   "cell_type": "code",
   "execution_count": 3,
   "id": "492f1dcc",
   "metadata": {},
   "outputs": [],
   "source": [
    "from sklearn.model_selection import train_test_split\n",
    "\n",
    "X_train, X_valid, y_train, y_valid = train_test_split(\n",
    "    X, y, test_size=0.2, random_state=42, stratify=y\n",
    ")"
   ]
  },
  {
   "cell_type": "code",
   "execution_count": 4,
   "id": "72699b2a",
   "metadata": {},
   "outputs": [
    {
     "name": "stdout",
     "output_type": "stream",
     "text": [
      "Accuracy: 0.8100558659217877\n",
      "Confusion Matrix:\n",
      " [[96 14]\n",
      " [20 49]]\n",
      "Classification Report:\n",
      "               precision    recall  f1-score   support\n",
      "\n",
      "           0       0.83      0.87      0.85       110\n",
      "           1       0.78      0.71      0.74        69\n",
      "\n",
      "    accuracy                           0.81       179\n",
      "   macro avg       0.80      0.79      0.80       179\n",
      "weighted avg       0.81      0.81      0.81       179\n",
      "\n"
     ]
    }
   ],
   "source": [
    "from sklearn.linear_model import LogisticRegression\n",
    "from sklearn.metrics import accuracy_score, confusion_matrix, classification_report\n",
    "\n",
    "model = LogisticRegression(max_iter=1000, random_state=42)\n",
    "model.fit(X_train, y_train)\n",
    "\n",
    "# Predict on validation set\n",
    "y_pred = model.predict(X_valid)\n",
    "\n",
    "# Evaluate\n",
    "print(\"Accuracy:\", accuracy_score(y_valid, y_pred))\n",
    "print(\"Confusion Matrix:\\n\", confusion_matrix(y_valid, y_pred))\n",
    "print(\"Classification Report:\\n\", classification_report(y_valid, y_pred))"
   ]
  },
  {
   "cell_type": "code",
   "execution_count": 5,
   "id": "3e9ab8fb",
   "metadata": {},
   "outputs": [
    {
     "name": "stdout",
     "output_type": "stream",
     "text": [
      "CV Accuracy (mean): 0.8136902893729208\n"
     ]
    }
   ],
   "source": [
    "from sklearn.model_selection import cross_val_score\n",
    "\n",
    "cv_scores = cross_val_score(model, X, y, cv=5)\n",
    "print(\"CV Accuracy (mean):\", cv_scores.mean())"
   ]
  },
  {
   "cell_type": "markdown",
   "id": "5f6dc426",
   "metadata": {},
   "source": [
    "## Model Evaluation Summary\n",
    "\n",
    "### Accuracy\n",
    "\n",
    "Validation Accuracy: 81.0%\n",
    "Cross-Validation Accuracy: 81.4%\n",
    "\n",
    "- Results are consistent — the model generalizes well.\n",
    "\n",
    "### Confusion Matrix\n",
    "\n",
    "|  Metric  |  Meaning  |\n",
    "|----|----|\n",
    "|  TN = 96  |  Predicted non-survivor correctly  |\n",
    "|  FP = 14  |  Predicted survivor, but they didn't survive  |\n",
    "|  FN = 20  |  Predicted non-survivor, but they did survive  |\n",
    "|  TP = 49  |  Correctly predicted survivors  |\n",
    "\n",
    "### Classification Report\n",
    "\n",
    "|  Class  |  Precision  |  Recall |  F1-Score  |\n",
    "|----|----|----|----|\n",
    "|  0 (Died)  |  0.83  |  0.87  |  0.85  |\n",
    "|  1 (Survived)  |  0.78  |  0.71  |  0.74  |\n",
    "\n",
    "- Good precision and recall for both classes\n",
    "- Balanced model — no major bias toward survivors or non-survivors\n",
    "- F1 for class 1 (survivors) could still improve\n"
   ]
  },
  {
   "cell_type": "code",
   "execution_count": 6,
   "id": "b0adff9d",
   "metadata": {},
   "outputs": [],
   "source": [
    "# Predict on test data\n",
    "test_cleaned = pd.read_csv(os.path.join(os.pardir,\"data\",\"test_cleaned.csv\"))\n",
    "test_df = pd.read_csv(os.path.join(os.pardir,\"data\",\"test.csv\"))\n",
    "test_preds = model.predict(test_cleaned)\n",
    "\n",
    "# Prepare submission\n",
    "submission = pd.DataFrame({\n",
    "    'PassengerId': test_df['PassengerId'],  # must come from raw test.csv\n",
    "    'Survived': test_preds\n",
    "})\n",
    "submission.to_csv(r'../models/logistic-regression/submission.csv', index=False)"
   ]
  }
 ],
 "metadata": {
  "kernelspec": {
   "display_name": ".venv",
   "language": "python",
   "name": "python3"
  },
  "language_info": {
   "codemirror_mode": {
    "name": "ipython",
    "version": 3
   },
   "file_extension": ".py",
   "mimetype": "text/x-python",
   "name": "python",
   "nbconvert_exporter": "python",
   "pygments_lexer": "ipython3",
   "version": "3.13.3"
  }
 },
 "nbformat": 4,
 "nbformat_minor": 5
}
