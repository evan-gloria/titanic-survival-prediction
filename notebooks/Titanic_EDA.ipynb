{
 "cells": [
  {
   "cell_type": "code",
   "execution_count": 1,
   "id": "2f917bcb",
   "metadata": {},
   "outputs": [],
   "source": [
    "import pandas as pd\n",
    "import numpy as np\n",
    "import matplotlib.pyplot as plt\n",
    "import seaborn as sns\n",
    "import os\n",
    "\n",
    "# to be used for Chi-Square and Cramer's V tests\n",
    "from scipy.stats import chi2_contingency\n"
   ]
  },
  {
   "cell_type": "code",
   "execution_count": 2,
   "id": "10ede1fe",
   "metadata": {},
   "outputs": [
    {
     "name": "stdout",
     "output_type": "stream",
     "text": [
      "<class 'pandas.core.frame.DataFrame'>\n",
      "RangeIndex: 891 entries, 0 to 890\n",
      "Data columns (total 12 columns):\n",
      " #   Column       Non-Null Count  Dtype  \n",
      "---  ------       --------------  -----  \n",
      " 0   PassengerId  891 non-null    int64  \n",
      " 1   Survived     891 non-null    int64  \n",
      " 2   Pclass       891 non-null    int64  \n",
      " 3   Name         891 non-null    object \n",
      " 4   Sex          891 non-null    object \n",
      " 5   Age          714 non-null    float64\n",
      " 6   SibSp        891 non-null    int64  \n",
      " 7   Parch        891 non-null    int64  \n",
      " 8   Ticket       891 non-null    object \n",
      " 9   Fare         891 non-null    float64\n",
      " 10  Cabin        204 non-null    object \n",
      " 11  Embarked     889 non-null    object \n",
      "dtypes: float64(2), int64(5), object(5)\n",
      "memory usage: 83.7+ KB\n"
     ]
    },
    {
     "data": {
      "application/vnd.microsoft.datawrangler.viewer.v0+json": {
       "columns": [
        {
         "name": "index",
         "rawType": "object",
         "type": "string"
        },
        {
         "name": "PassengerId",
         "rawType": "float64",
         "type": "float"
        },
        {
         "name": "Survived",
         "rawType": "float64",
         "type": "float"
        },
        {
         "name": "Pclass",
         "rawType": "float64",
         "type": "float"
        },
        {
         "name": "Age",
         "rawType": "float64",
         "type": "float"
        },
        {
         "name": "SibSp",
         "rawType": "float64",
         "type": "float"
        },
        {
         "name": "Parch",
         "rawType": "float64",
         "type": "float"
        },
        {
         "name": "Fare",
         "rawType": "float64",
         "type": "float"
        }
       ],
       "conversionMethod": "pd.DataFrame",
       "ref": "95dc6f06-c45e-4076-9f2b-c6d4c30c69f2",
       "rows": [
        [
         "count",
         "891.0",
         "891.0",
         "891.0",
         "714.0",
         "891.0",
         "891.0",
         "891.0"
        ],
        [
         "mean",
         "446.0",
         "0.3838383838383838",
         "2.308641975308642",
         "29.69911764705882",
         "0.5230078563411896",
         "0.38159371492704824",
         "32.204207968574636"
        ],
        [
         "std",
         "257.3538420152301",
         "0.4865924542648575",
         "0.836071240977049",
         "14.526497332334042",
         "1.1027434322934317",
         "0.8060572211299483",
         "49.6934285971809"
        ],
        [
         "min",
         "1.0",
         "0.0",
         "1.0",
         "0.42",
         "0.0",
         "0.0",
         "0.0"
        ],
        [
         "25%",
         "223.5",
         "0.0",
         "2.0",
         "20.125",
         "0.0",
         "0.0",
         "7.9104"
        ],
        [
         "50%",
         "446.0",
         "0.0",
         "3.0",
         "28.0",
         "0.0",
         "0.0",
         "14.4542"
        ],
        [
         "75%",
         "668.5",
         "1.0",
         "3.0",
         "38.0",
         "1.0",
         "0.0",
         "31.0"
        ],
        [
         "max",
         "891.0",
         "1.0",
         "3.0",
         "80.0",
         "8.0",
         "6.0",
         "512.3292"
        ]
       ],
       "shape": {
        "columns": 7,
        "rows": 8
       }
      },
      "text/html": [
       "<div>\n",
       "<style scoped>\n",
       "    .dataframe tbody tr th:only-of-type {\n",
       "        vertical-align: middle;\n",
       "    }\n",
       "\n",
       "    .dataframe tbody tr th {\n",
       "        vertical-align: top;\n",
       "    }\n",
       "\n",
       "    .dataframe thead th {\n",
       "        text-align: right;\n",
       "    }\n",
       "</style>\n",
       "<table border=\"1\" class=\"dataframe\">\n",
       "  <thead>\n",
       "    <tr style=\"text-align: right;\">\n",
       "      <th></th>\n",
       "      <th>PassengerId</th>\n",
       "      <th>Survived</th>\n",
       "      <th>Pclass</th>\n",
       "      <th>Age</th>\n",
       "      <th>SibSp</th>\n",
       "      <th>Parch</th>\n",
       "      <th>Fare</th>\n",
       "    </tr>\n",
       "  </thead>\n",
       "  <tbody>\n",
       "    <tr>\n",
       "      <th>count</th>\n",
       "      <td>891.000000</td>\n",
       "      <td>891.000000</td>\n",
       "      <td>891.000000</td>\n",
       "      <td>714.000000</td>\n",
       "      <td>891.000000</td>\n",
       "      <td>891.000000</td>\n",
       "      <td>891.000000</td>\n",
       "    </tr>\n",
       "    <tr>\n",
       "      <th>mean</th>\n",
       "      <td>446.000000</td>\n",
       "      <td>0.383838</td>\n",
       "      <td>2.308642</td>\n",
       "      <td>29.699118</td>\n",
       "      <td>0.523008</td>\n",
       "      <td>0.381594</td>\n",
       "      <td>32.204208</td>\n",
       "    </tr>\n",
       "    <tr>\n",
       "      <th>std</th>\n",
       "      <td>257.353842</td>\n",
       "      <td>0.486592</td>\n",
       "      <td>0.836071</td>\n",
       "      <td>14.526497</td>\n",
       "      <td>1.102743</td>\n",
       "      <td>0.806057</td>\n",
       "      <td>49.693429</td>\n",
       "    </tr>\n",
       "    <tr>\n",
       "      <th>min</th>\n",
       "      <td>1.000000</td>\n",
       "      <td>0.000000</td>\n",
       "      <td>1.000000</td>\n",
       "      <td>0.420000</td>\n",
       "      <td>0.000000</td>\n",
       "      <td>0.000000</td>\n",
       "      <td>0.000000</td>\n",
       "    </tr>\n",
       "    <tr>\n",
       "      <th>25%</th>\n",
       "      <td>223.500000</td>\n",
       "      <td>0.000000</td>\n",
       "      <td>2.000000</td>\n",
       "      <td>20.125000</td>\n",
       "      <td>0.000000</td>\n",
       "      <td>0.000000</td>\n",
       "      <td>7.910400</td>\n",
       "    </tr>\n",
       "    <tr>\n",
       "      <th>50%</th>\n",
       "      <td>446.000000</td>\n",
       "      <td>0.000000</td>\n",
       "      <td>3.000000</td>\n",
       "      <td>28.000000</td>\n",
       "      <td>0.000000</td>\n",
       "      <td>0.000000</td>\n",
       "      <td>14.454200</td>\n",
       "    </tr>\n",
       "    <tr>\n",
       "      <th>75%</th>\n",
       "      <td>668.500000</td>\n",
       "      <td>1.000000</td>\n",
       "      <td>3.000000</td>\n",
       "      <td>38.000000</td>\n",
       "      <td>1.000000</td>\n",
       "      <td>0.000000</td>\n",
       "      <td>31.000000</td>\n",
       "    </tr>\n",
       "    <tr>\n",
       "      <th>max</th>\n",
       "      <td>891.000000</td>\n",
       "      <td>1.000000</td>\n",
       "      <td>3.000000</td>\n",
       "      <td>80.000000</td>\n",
       "      <td>8.000000</td>\n",
       "      <td>6.000000</td>\n",
       "      <td>512.329200</td>\n",
       "    </tr>\n",
       "  </tbody>\n",
       "</table>\n",
       "</div>"
      ],
      "text/plain": [
       "       PassengerId    Survived      Pclass         Age       SibSp  \\\n",
       "count   891.000000  891.000000  891.000000  714.000000  891.000000   \n",
       "mean    446.000000    0.383838    2.308642   29.699118    0.523008   \n",
       "std     257.353842    0.486592    0.836071   14.526497    1.102743   \n",
       "min       1.000000    0.000000    1.000000    0.420000    0.000000   \n",
       "25%     223.500000    0.000000    2.000000   20.125000    0.000000   \n",
       "50%     446.000000    0.000000    3.000000   28.000000    0.000000   \n",
       "75%     668.500000    1.000000    3.000000   38.000000    1.000000   \n",
       "max     891.000000    1.000000    3.000000   80.000000    8.000000   \n",
       "\n",
       "            Parch        Fare  \n",
       "count  891.000000  891.000000  \n",
       "mean     0.381594   32.204208  \n",
       "std      0.806057   49.693429  \n",
       "min      0.000000    0.000000  \n",
       "25%      0.000000    7.910400  \n",
       "50%      0.000000   14.454200  \n",
       "75%      0.000000   31.000000  \n",
       "max      6.000000  512.329200  "
      ]
     },
     "execution_count": 2,
     "metadata": {},
     "output_type": "execute_result"
    }
   ],
   "source": [
    "\n",
    "train_raw = pd.read_csv(os.path.join(os.pardir,\"data\",\"train.csv\"))\n",
    "test = pd.read_csv(os.path.join(os.pardir,\"data\",\"test.csv\"))\n",
    "\n",
    "# Create a pre-process copy of the train dataset\n",
    "train = train_raw.copy()\n",
    "\n",
    "# Quick look at data\n",
    "train.head()\n",
    "train.info()\n",
    "train.describe()"
   ]
  },
  {
   "cell_type": "code",
   "execution_count": 3,
   "id": "bebfd4c1",
   "metadata": {},
   "outputs": [
    {
     "data": {
      "text/plain": [
       "PassengerId      0\n",
       "Survived         0\n",
       "Pclass           0\n",
       "Name             0\n",
       "Sex              0\n",
       "Age            177\n",
       "SibSp            0\n",
       "Parch            0\n",
       "Ticket           0\n",
       "Fare             0\n",
       "Cabin          687\n",
       "Embarked         2\n",
       "dtype: int64"
      ]
     },
     "execution_count": 3,
     "metadata": {},
     "output_type": "execute_result"
    }
   ],
   "source": [
    "# Checking for Null or Blank columns\n",
    "train.isnull().sum()\n",
    "train.duplicated().sum()\n",
    "(train.isnull() | (train == '')).sum()"
   ]
  },
  {
   "cell_type": "code",
   "execution_count": 4,
   "id": "55f4f90a",
   "metadata": {},
   "outputs": [
    {
     "data": {
      "image/png": "[encoded data removed]",
      "text/plain": [
       "<Figure size 640x480 with 1 Axes>"
      ]
     },
     "metadata": {},
     "output_type": "display_data"
    }
   ],
   "source": [
    "sns.countplot(x='Survived', data=train)\n",
    "plt.title('Survival Count')\n",
    "plt.show()"
   ]
  },
  {
   "cell_type": "code",
   "execution_count": 5,
   "id": "11b77e21",
   "metadata": {},
   "outputs": [
    {
     "data": {
      "image/png": "[encoded data removed]",
      "text/plain": [
       "<Figure size 640x480 with 1 Axes>"
      ]
     },
     "metadata": {},
     "output_type": "display_data"
    }
   ],
   "source": [
    "sns.countplot(x='Sex', hue='Survived', data=train)\n",
    "plt.title('Survival by Gender')\n",
    "plt.show()"
   ]
  },
  {
   "cell_type": "code",
   "execution_count": 6,
   "id": "b35cd65a",
   "metadata": {},
   "outputs": [
    {
     "data": {
      "image/png": "[encoded data removed]",
      "text/plain": [
       "<Figure size 640x480 with 1 Axes>"
      ]
     },
     "metadata": {},
     "output_type": "display_data"
    }
   ],
   "source": [
    "sns.countplot(x='Pclass', hue='Survived', data=train)\n",
    "plt.title('Survival by Passenger Class')\n",
    "plt.show()"
   ]
  },
  {
   "cell_type": "code",
   "execution_count": 7,
   "id": "672a11fc",
   "metadata": {},
   "outputs": [
    {
     "data": {
      "image/png": "[encoded data removed]",
      "text/plain": [
       "<Figure size 640x480 with 1 Axes>"
      ]
     },
     "metadata": {},
     "output_type": "display_data"
    }
   ],
   "source": [
    "sns.histplot(data=train, x='Age', bins=30, kde=True)\n",
    "plt.title('Age Distribution')\n",
    "plt.show()"
   ]
  },
  {
   "cell_type": "code",
   "execution_count": 8,
   "id": "2e49e669",
   "metadata": {},
   "outputs": [
    {
     "data": {
      "image/png": "[encoded data removed]",
      "text/plain": [
       "<Figure size 640x480 with 2 Axes>"
      ]
     },
     "metadata": {},
     "output_type": "display_data"
    }
   ],
   "source": [
    "sns.heatmap(train.corr(numeric_only=True), annot=True, cmap='coolwarm')\n",
    "plt.title('Correlation Heatmap')\n",
    "plt.show()"
   ]
  },
  {
   "cell_type": "markdown",
   "id": "0b391222",
   "metadata": {},
   "source": [
    "### Exploring the PClass\n",
    "\n",
    "PClass is a categorical data\n",
    "- 1st = Upper\n",
    "- 2nd = Middle\n",
    "- 3rd = Lower"
   ]
  },
  {
   "cell_type": "code",
   "execution_count": 9,
   "id": "dce3e850",
   "metadata": {},
   "outputs": [
    {
     "name": "stderr",
     "output_type": "stream",
     "text": [
      "/var/folders/1v/yp3pf2fd283b189f253c28m40000gn/T/ipykernel_9114/4222834844.py:7: FutureWarning: \n",
      "\n",
      "Passing `palette` without assigning `hue` is deprecated and will be removed in v0.14.0. Assign the `x` variable to `hue` and set `legend=False` for the same effect.\n",
      "\n",
      "  sns.barplot(\n"
     ]
    },
    {
     "data": {
      "image/png": "[encoded data removed]",
      "text/plain": [
       "<Figure size 1000x600 with 1 Axes>"
      ]
     },
     "metadata": {},
     "output_type": "display_data"
    }
   ],
   "source": [
    "group_by_pclass = train.groupby('Pclass').size().reset_index(name='number_of_records')\n",
    "\n",
    "# Set plot size\n",
    "plt.figure(figsize=(10, 6))\n",
    "\n",
    "# Create bar plot\n",
    "sns.barplot(\n",
    "    data=group_by_pclass,\n",
    "    x='Pclass',\n",
    "    y='number_of_records',\n",
    "    palette='Blues_d'\n",
    ")\n",
    "\n",
    "# Add labels and title\n",
    "plt.xlabel('Pclass')\n",
    "plt.ylabel('Number of Records')\n",
    "plt.title('Record Count per Pclass')\n",
    "plt.tight_layout()\n",
    "\n",
    "# Show plot\n",
    "plt.show()"
   ]
  },
  {
   "cell_type": "markdown",
   "id": "fc4a80fd",
   "metadata": {},
   "source": [
    "Since the PClass are categorical and only represented as a numeric, we will be applying Dummy Encoding."
   ]
  },
  {
   "cell_type": "code",
   "execution_count": 10,
   "id": "535a7360",
   "metadata": {},
   "outputs": [],
   "source": [
    "pclass_dummy = pd.get_dummies(train['Pclass'], prefix='Pclass', drop_first=True).astype(int)\n",
    "train = pd.concat([train,pclass_dummy],axis=1)"
   ]
  },
  {
   "cell_type": "code",
   "execution_count": 11,
   "id": "d833c62f",
   "metadata": {},
   "outputs": [
    {
     "data": {
      "application/vnd.microsoft.datawrangler.viewer.v0+json": {
       "columns": [
        {
         "name": "index",
         "rawType": "int64",
         "type": "integer"
        },
        {
         "name": "PassengerId",
         "rawType": "int64",
         "type": "integer"
        },
        {
         "name": "Survived",
         "rawType": "int64",
         "type": "integer"
        },
        {
         "name": "Pclass",
         "rawType": "int64",
         "type": "integer"
        },
        {
         "name": "Name",
         "rawType": "object",
         "type": "string"
        },
        {
         "name": "Sex",
         "rawType": "object",
         "type": "string"
        },
        {
         "name": "Age",
         "rawType": "float64",
         "type": "float"
        },
        {
         "name": "SibSp",
         "rawType": "int64",
         "type": "integer"
        },
        {
         "name": "Parch",
         "rawType": "int64",
         "type": "integer"
        },
        {
         "name": "Ticket",
         "rawType": "object",
         "type": "string"
        },
        {
         "name": "Fare",
         "rawType": "float64",
         "type": "float"
        },
        {
         "name": "Cabin",
         "rawType": "object",
         "type": "unknown"
        },
        {
         "name": "Embarked",
         "rawType": "object",
         "type": "string"
        },
        {
         "name": "Pclass_2",
         "rawType": "int64",
         "type": "integer"
        },
        {
         "name": "Pclass_3",
         "rawType": "int64",
         "type": "integer"
        }
       ],
       "conversionMethod": "pd.DataFrame",
       "ref": "cc6083cd-3754-4af8-98c3-8388ad8b5fd8",
       "rows": [
        [
         "0",
         "1",
         "0",
         "3",
         "Braund, Mr. Owen Harris",
         "male",
         "22.0",
         "1",
         "0",
         "A/5 21171",
         "7.25",
         null,
         "S",
         "0",
         "1"
        ],
        [
         "1",
         "2",
         "1",
         "1",
         "Cumings, Mrs. John Bradley (Florence Briggs Thayer)",
         "female",
         "38.0",
         "1",
         "0",
         "PC 17599",
         "71.2833",
         "C85",
         "C",
         "0",
         "0"
        ],
        [
         "2",
         "3",
         "1",
         "3",
         "Heikkinen, Miss. Laina",
         "female",
         "26.0",
         "0",
         "0",
         "STON/O2. 3101282",
         "7.925",
         null,
         "S",
         "0",
         "1"
        ],
        [
         "3",
         "4",
         "1",
         "1",
         "Futrelle, Mrs. Jacques Heath (Lily May Peel)",
         "female",
         "35.0",
         "1",
         "0",
         "113803",
         "53.1",
         "C123",
         "S",
         "0",
         "0"
        ],
        [
         "4",
         "5",
         "0",
         "3",
         "Allen, Mr. William Henry",
         "male",
         "35.0",
         "0",
         "0",
         "373450",
         "8.05",
         null,
         "S",
         "0",
         "1"
        ]
       ],
       "shape": {
        "columns": 14,
        "rows": 5
       }
      },
      "text/html": [
       "<div>\n",
       "<style scoped>\n",
       "    .dataframe tbody tr th:only-of-type {\n",
       "        vertical-align: middle;\n",
       "    }\n",
       "\n",
       "    .dataframe tbody tr th {\n",
       "        vertical-align: top;\n",
       "    }\n",
       "\n",
       "    .dataframe thead th {\n",
       "        text-align: right;\n",
       "    }\n",
       "</style>\n",
       "<table border=\"1\" class=\"dataframe\">\n",
       "  <thead>\n",
       "    <tr style=\"text-align: right;\">\n",
       "      <th></th>\n",
       "      <th>PassengerId</th>\n",
       "      <th>Survived</th>\n",
       "      <th>Pclass</th>\n",
       "      <th>Name</th>\n",
       "      <th>Sex</th>\n",
       "      <th>Age</th>\n",
       "      <th>SibSp</th>\n",
       "      <th>Parch</th>\n",
       "      <th>Ticket</th>\n",
       "      <th>Fare</th>\n",
       "      <th>Cabin</th>\n",
       "      <th>Embarked</th>\n",
       "      <th>Pclass_2</th>\n",
       "      <th>Pclass_3</th>\n",
       "    </tr>\n",
       "  </thead>\n",
       "  <tbody>\n",
       "    <tr>\n",
       "      <th>0</th>\n",
       "      <td>1</td>\n",
       "      <td>0</td>\n",
       "      <td>3</td>\n",
       "      <td>Braund, Mr. Owen Harris</td>\n",
       "      <td>male</td>\n",
       "      <td>22.0</td>\n",
       "      <td>1</td>\n",
       "      <td>0</td>\n",
       "      <td>A/5 21171</td>\n",
       "      <td>7.2500</td>\n",
       "      <td>NaN</td>\n",
       "      <td>S</td>\n",
       "      <td>0</td>\n",
       "      <td>1</td>\n",
       "    </tr>\n",
       "    <tr>\n",
       "      <th>1</th>\n",
       "      <td>2</td>\n",
       "      <td>1</td>\n",
       "      <td>1</td>\n",
       "      <td>Cumings, Mrs. John Bradley (Florence Briggs Th...</td>\n",
       "      <td>female</td>\n",
       "      <td>38.0</td>\n",
       "      <td>1</td>\n",
       "      <td>0</td>\n",
       "      <td>PC 17599</td>\n",
       "      <td>71.2833</td>\n",
       "      <td>C85</td>\n",
       "      <td>C</td>\n",
       "      <td>0</td>\n",
       "      <td>0</td>\n",
       "    </tr>\n",
       "    <tr>\n",
       "      <th>2</th>\n",
       "      <td>3</td>\n",
       "      <td>1</td>\n",
       "      <td>3</td>\n",
       "      <td>Heikkinen, Miss. Laina</td>\n",
       "      <td>female</td>\n",
       "      <td>26.0</td>\n",
       "      <td>0</td>\n",
       "      <td>0</td>\n",
       "      <td>STON/O2. 3101282</td>\n",
       "      <td>7.9250</td>\n",
       "      <td>NaN</td>\n",
       "      <td>S</td>\n",
       "      <td>0</td>\n",
       "      <td>1</td>\n",
       "    </tr>\n",
       "    <tr>\n",
       "      <th>3</th>\n",
       "      <td>4</td>\n",
       "      <td>1</td>\n",
       "      <td>1</td>\n",
       "      <td>Futrelle, Mrs. Jacques Heath (Lily May Peel)</td>\n",
       "      <td>female</td>\n",
       "      <td>35.0</td>\n",
       "      <td>1</td>\n",
       "      <td>0</td>\n",
       "      <td>113803</td>\n",
       "      <td>53.1000</td>\n",
       "      <td>C123</td>\n",
       "      <td>S</td>\n",
       "      <td>0</td>\n",
       "      <td>0</td>\n",
       "    </tr>\n",
       "    <tr>\n",
       "      <th>4</th>\n",
       "      <td>5</td>\n",
       "      <td>0</td>\n",
       "      <td>3</td>\n",
       "      <td>Allen, Mr. William Henry</td>\n",
       "      <td>male</td>\n",
       "      <td>35.0</td>\n",
       "      <td>0</td>\n",
       "      <td>0</td>\n",
       "      <td>373450</td>\n",
       "      <td>8.0500</td>\n",
       "      <td>NaN</td>\n",
       "      <td>S</td>\n",
       "      <td>0</td>\n",
       "      <td>1</td>\n",
       "    </tr>\n",
       "  </tbody>\n",
       "</table>\n",
       "</div>"
      ],
      "text/plain": [
       "   PassengerId  Survived  Pclass  \\\n",
       "0            1         0       3   \n",
       "1            2         1       1   \n",
       "2            3         1       3   \n",
       "3            4         1       1   \n",
       "4            5         0       3   \n",
       "\n",
       "                                                Name     Sex   Age  SibSp  \\\n",
       "0                            Braund, Mr. Owen Harris    male  22.0      1   \n",
       "1  Cumings, Mrs. John Bradley (Florence Briggs Th...  female  38.0      1   \n",
       "2                             Heikkinen, Miss. Laina  female  26.0      0   \n",
       "3       Futrelle, Mrs. Jacques Heath (Lily May Peel)  female  35.0      1   \n",
       "4                           Allen, Mr. William Henry    male  35.0      0   \n",
       "\n",
       "   Parch            Ticket     Fare Cabin Embarked  Pclass_2  Pclass_3  \n",
       "0      0         A/5 21171   7.2500   NaN        S         0         1  \n",
       "1      0          PC 17599  71.2833   C85        C         0         0  \n",
       "2      0  STON/O2. 3101282   7.9250   NaN        S         0         1  \n",
       "3      0            113803  53.1000  C123        S         0         0  \n",
       "4      0            373450   8.0500   NaN        S         0         1  "
      ]
     },
     "execution_count": 11,
     "metadata": {},
     "output_type": "execute_result"
    }
   ],
   "source": [
    "train.head()\n",
    "#pd.get_dummies(train_pre_processed['Pclass'], prefix='Pclass', drop_first=True).astype(int)"
   ]
  },
  {
   "cell_type": "code",
   "execution_count": 12,
   "id": "93dad166",
   "metadata": {},
   "outputs": [
    {
     "data": {
      "image/png": "[encoded data removed]",
      "text/plain": [
       "<Figure size 640x480 with 2 Axes>"
      ]
     },
     "metadata": {},
     "output_type": "display_data"
    },
    {
     "data": {
      "application/vnd.microsoft.datawrangler.viewer.v0+json": {
       "columns": [
        {
         "name": "index",
         "rawType": "object",
         "type": "string"
        },
        {
         "name": "PassengerId",
         "rawType": "float64",
         "type": "float"
        },
        {
         "name": "Survived",
         "rawType": "float64",
         "type": "float"
        },
        {
         "name": "Pclass",
         "rawType": "float64",
         "type": "float"
        },
        {
         "name": "Age",
         "rawType": "float64",
         "type": "float"
        },
        {
         "name": "SibSp",
         "rawType": "float64",
         "type": "float"
        },
        {
         "name": "Parch",
         "rawType": "float64",
         "type": "float"
        },
        {
         "name": "Fare",
         "rawType": "float64",
         "type": "float"
        },
        {
         "name": "Pclass_2",
         "rawType": "float64",
         "type": "float"
        },
        {
         "name": "Pclass_3",
         "rawType": "float64",
         "type": "float"
        }
       ],
       "conversionMethod": "pd.DataFrame",
       "ref": "ce84b436-4ce4-4934-a97d-16823878bcbf",
       "rows": [
        [
         "PassengerId",
         "1.0",
         "-0.005006660767066571",
         "-0.035143994030381084",
         "0.036847197861327737",
         "-0.05752683378444152",
         "-0.0016520124027188268",
         "0.012658219287491099",
         "-8.62351972531639e-05",
         "-0.029485667460809568"
        ],
        [
         "Survived",
         "-0.005006660767066571",
         "1.0",
         "-0.3384810359610151",
         "-0.07722109457217756",
         "-0.0353224988857356",
         "0.08162940708348336",
         "0.2573065223849626",
         "0.09334857241192887",
         "-0.32230835737297026"
        ],
        [
         "Pclass",
         "-0.035143994030381084",
         "-0.3384810359610151",
         "1.0",
         "-0.36922601531551746",
         "0.08308136284568687",
         "0.018442671310748508",
         "-0.5494996199439075",
         "-0.18843204359481358",
         "0.9166727522685241"
        ],
        [
         "Age",
         "0.036847197861327737",
         "-0.07722109457217756",
         "-0.36922601531551746",
         "1.0",
         "-0.3082467589236568",
         "-0.1891192626320352",
         "0.09606669176903915",
         "0.006954025298685505",
         "-0.31227135398255756"
        ],
        [
         "SibSp",
         "-0.05752683378444152",
         "-0.0353224988857356",
         "0.08308136284568687",
         "-0.3082467589236568",
         "1.0",
         "0.41483769862015635",
         "0.159651043242161",
         "-0.05593163590694423",
         "0.09254804631012735"
        ],
        [
         "Parch",
         "-0.0016520124027188268",
         "0.08162940708348336",
         "0.018442671310748508",
         "-0.1891192626320352",
         "0.41483769862015635",
         "1.0",
         "0.2162249447707645",
         "-0.0007338972396312678",
         "0.015790384600965227"
        ],
        [
         "Fare",
         "0.012658219287491099",
         "0.2573065223849626",
         "-0.5494996199439075",
         "0.09606669176903915",
         "0.159651043242161",
         "0.2162249447707645",
         "1.0",
         "-0.11855669803958231",
         "-0.4133325422867408"
        ],
        [
         "Pclass_2",
         "-8.62351972531639e-05",
         "0.09334857241192887",
         "-0.18843204359481358",
         "0.006954025298685505",
         "-0.05593163590694423",
         "-0.0007338972396312678",
         "-0.11855669803958231",
         "1.0",
         "-0.565210153553826"
        ],
        [
         "Pclass_3",
         "-0.029485667460809568",
         "-0.32230835737297026",
         "0.9166727522685241",
         "-0.31227135398255756",
         "0.09254804631012735",
         "0.015790384600965227",
         "-0.4133325422867408",
         "-0.565210153553826",
         "1.0"
        ]
       ],
       "shape": {
        "columns": 9,
        "rows": 9
       }
      },
      "text/html": [
       "<div>\n",
       "<style scoped>\n",
       "    .dataframe tbody tr th:only-of-type {\n",
       "        vertical-align: middle;\n",
       "    }\n",
       "\n",
       "    .dataframe tbody tr th {\n",
       "        vertical-align: top;\n",
       "    }\n",
       "\n",
       "    .dataframe thead th {\n",
       "        text-align: right;\n",
       "    }\n",
       "</style>\n",
       "<table border=\"1\" class=\"dataframe\">\n",
       "  <thead>\n",
       "    <tr style=\"text-align: right;\">\n",
       "      <th></th>\n",
       "      <th>PassengerId</th>\n",
       "      <th>Survived</th>\n",
       "      <th>Pclass</th>\n",
       "      <th>Age</th>\n",
       "      <th>SibSp</th>\n",
       "      <th>Parch</th>\n",
       "      <th>Fare</th>\n",
       "      <th>Pclass_2</th>\n",
       "      <th>Pclass_3</th>\n",
       "    </tr>\n",
       "  </thead>\n",
       "  <tbody>\n",
       "    <tr>\n",
       "      <th>PassengerId</th>\n",
       "      <td>1.000000</td>\n",
       "      <td>-0.005007</td>\n",
       "      <td>-0.035144</td>\n",
       "      <td>0.036847</td>\n",
       "      <td>-0.057527</td>\n",
       "      <td>-0.001652</td>\n",
       "      <td>0.012658</td>\n",
       "      <td>-0.000086</td>\n",
       "      <td>-0.029486</td>\n",
       "    </tr>\n",
       "    <tr>\n",
       "      <th>Survived</th>\n",
       "      <td>-0.005007</td>\n",
       "      <td>1.000000</td>\n",
       "      <td>-0.338481</td>\n",
       "      <td>-0.077221</td>\n",
       "      <td>-0.035322</td>\n",
       "      <td>0.081629</td>\n",
       "      <td>0.257307</td>\n",
       "      <td>0.093349</td>\n",
       "      <td>-0.322308</td>\n",
       "    </tr>\n",
       "    <tr>\n",
       "      <th>Pclass</th>\n",
       "      <td>-0.035144</td>\n",
       "      <td>-0.338481</td>\n",
       "      <td>1.000000</td>\n",
       "      <td>-0.369226</td>\n",
       "      <td>0.083081</td>\n",
       "      <td>0.018443</td>\n",
       "      <td>-0.549500</td>\n",
       "      <td>-0.188432</td>\n",
       "      <td>0.916673</td>\n",
       "    </tr>\n",
       "    <tr>\n",
       "      <th>Age</th>\n",
       "      <td>0.036847</td>\n",
       "      <td>-0.077221</td>\n",
       "      <td>-0.369226</td>\n",
       "      <td>1.000000</td>\n",
       "      <td>-0.308247</td>\n",
       "      <td>-0.189119</td>\n",
       "      <td>0.096067</td>\n",
       "      <td>0.006954</td>\n",
       "      <td>-0.312271</td>\n",
       "    </tr>\n",
       "    <tr>\n",
       "      <th>SibSp</th>\n",
       "      <td>-0.057527</td>\n",
       "      <td>-0.035322</td>\n",
       "      <td>0.083081</td>\n",
       "      <td>-0.308247</td>\n",
       "      <td>1.000000</td>\n",
       "      <td>0.414838</td>\n",
       "      <td>0.159651</td>\n",
       "      <td>-0.055932</td>\n",
       "      <td>0.092548</td>\n",
       "    </tr>\n",
       "    <tr>\n",
       "      <th>Parch</th>\n",
       "      <td>-0.001652</td>\n",
       "      <td>0.081629</td>\n",
       "      <td>0.018443</td>\n",
       "      <td>-0.189119</td>\n",
       "      <td>0.414838</td>\n",
       "      <td>1.000000</td>\n",
       "      <td>0.216225</td>\n",
       "      <td>-0.000734</td>\n",
       "      <td>0.015790</td>\n",
       "    </tr>\n",
       "    <tr>\n",
       "      <th>Fare</th>\n",
       "      <td>0.012658</td>\n",
       "      <td>0.257307</td>\n",
       "      <td>-0.549500</td>\n",
       "      <td>0.096067</td>\n",
       "      <td>0.159651</td>\n",
       "      <td>0.216225</td>\n",
       "      <td>1.000000</td>\n",
       "      <td>-0.118557</td>\n",
       "      <td>-0.413333</td>\n",
       "    </tr>\n",
       "    <tr>\n",
       "      <th>Pclass_2</th>\n",
       "      <td>-0.000086</td>\n",
       "      <td>0.093349</td>\n",
       "      <td>-0.188432</td>\n",
       "      <td>0.006954</td>\n",
       "      <td>-0.055932</td>\n",
       "      <td>-0.000734</td>\n",
       "      <td>-0.118557</td>\n",
       "      <td>1.000000</td>\n",
       "      <td>-0.565210</td>\n",
       "    </tr>\n",
       "    <tr>\n",
       "      <th>Pclass_3</th>\n",
       "      <td>-0.029486</td>\n",
       "      <td>-0.322308</td>\n",
       "      <td>0.916673</td>\n",
       "      <td>-0.312271</td>\n",
       "      <td>0.092548</td>\n",
       "      <td>0.015790</td>\n",
       "      <td>-0.413333</td>\n",
       "      <td>-0.565210</td>\n",
       "      <td>1.000000</td>\n",
       "    </tr>\n",
       "  </tbody>\n",
       "</table>\n",
       "</div>"
      ],
      "text/plain": [
       "             PassengerId  Survived    Pclass       Age     SibSp     Parch  \\\n",
       "PassengerId     1.000000 -0.005007 -0.035144  0.036847 -0.057527 -0.001652   \n",
       "Survived       -0.005007  1.000000 -0.338481 -0.077221 -0.035322  0.081629   \n",
       "Pclass         -0.035144 -0.338481  1.000000 -0.369226  0.083081  0.018443   \n",
       "Age             0.036847 -0.077221 -0.369226  1.000000 -0.308247 -0.189119   \n",
       "SibSp          -0.057527 -0.035322  0.083081 -0.308247  1.000000  0.414838   \n",
       "Parch          -0.001652  0.081629  0.018443 -0.189119  0.414838  1.000000   \n",
       "Fare            0.012658  0.257307 -0.549500  0.096067  0.159651  0.216225   \n",
       "Pclass_2       -0.000086  0.093349 -0.188432  0.006954 -0.055932 -0.000734   \n",
       "Pclass_3       -0.029486 -0.322308  0.916673 -0.312271  0.092548  0.015790   \n",
       "\n",
       "                 Fare  Pclass_2  Pclass_3  \n",
       "PassengerId  0.012658 -0.000086 -0.029486  \n",
       "Survived     0.257307  0.093349 -0.322308  \n",
       "Pclass      -0.549500 -0.188432  0.916673  \n",
       "Age          0.096067  0.006954 -0.312271  \n",
       "SibSp        0.159651 -0.055932  0.092548  \n",
       "Parch        0.216225 -0.000734  0.015790  \n",
       "Fare         1.000000 -0.118557 -0.413333  \n",
       "Pclass_2    -0.118557  1.000000 -0.565210  \n",
       "Pclass_3    -0.413333 -0.565210  1.000000  "
      ]
     },
     "execution_count": 12,
     "metadata": {},
     "output_type": "execute_result"
    }
   ],
   "source": [
    "sns.heatmap(train.corr(numeric_only=True), annot=True, cmap='coolwarm')\n",
    "plt.title('Correlation Heatmap')\n",
    "plt.show()\n",
    "\n",
    "train.corr(numeric_only=True)"
   ]
  },
  {
   "cell_type": "code",
   "execution_count": 13,
   "id": "fb05f79f",
   "metadata": {},
   "outputs": [
    {
     "data": {
      "application/vnd.microsoft.datawrangler.viewer.v0+json": {
       "columns": [
        {
         "name": "index",
         "rawType": "int64",
         "type": "integer"
        },
        {
         "name": "Pclass_2",
         "rawType": "int64",
         "type": "integer"
        },
        {
         "name": "Pclass_3",
         "rawType": "int64",
         "type": "integer"
        },
        {
         "name": "number_of_records",
         "rawType": "int64",
         "type": "integer"
        }
       ],
       "conversionMethod": "pd.DataFrame",
       "ref": "95c2996a-473f-41ec-882f-96a85b836247",
       "rows": [
        [
         "0",
         "0",
         "0",
         "216"
        ],
        [
         "1",
         "0",
         "1",
         "491"
        ],
        [
         "2",
         "1",
         "0",
         "184"
        ]
       ],
       "shape": {
        "columns": 3,
        "rows": 3
       }
      },
      "text/html": [
       "<div>\n",
       "<style scoped>\n",
       "    .dataframe tbody tr th:only-of-type {\n",
       "        vertical-align: middle;\n",
       "    }\n",
       "\n",
       "    .dataframe tbody tr th {\n",
       "        vertical-align: top;\n",
       "    }\n",
       "\n",
       "    .dataframe thead th {\n",
       "        text-align: right;\n",
       "    }\n",
       "</style>\n",
       "<table border=\"1\" class=\"dataframe\">\n",
       "  <thead>\n",
       "    <tr style=\"text-align: right;\">\n",
       "      <th></th>\n",
       "      <th>Pclass_2</th>\n",
       "      <th>Pclass_3</th>\n",
       "      <th>number_of_records</th>\n",
       "    </tr>\n",
       "  </thead>\n",
       "  <tbody>\n",
       "    <tr>\n",
       "      <th>0</th>\n",
       "      <td>0</td>\n",
       "      <td>0</td>\n",
       "      <td>216</td>\n",
       "    </tr>\n",
       "    <tr>\n",
       "      <th>1</th>\n",
       "      <td>0</td>\n",
       "      <td>1</td>\n",
       "      <td>491</td>\n",
       "    </tr>\n",
       "    <tr>\n",
       "      <th>2</th>\n",
       "      <td>1</td>\n",
       "      <td>0</td>\n",
       "      <td>184</td>\n",
       "    </tr>\n",
       "  </tbody>\n",
       "</table>\n",
       "</div>"
      ],
      "text/plain": [
       "   Pclass_2  Pclass_3  number_of_records\n",
       "0         0         0                216\n",
       "1         0         1                491\n",
       "2         1         0                184"
      ]
     },
     "execution_count": 13,
     "metadata": {},
     "output_type": "execute_result"
    }
   ],
   "source": [
    "train.groupby(['Pclass_2','Pclass_3']).size().reset_index(name='number_of_records')"
   ]
  },
  {
   "cell_type": "markdown",
   "id": "71fbab09",
   "metadata": {},
   "source": [
    "## Perform Chi-Square and Cramer's V test\n",
    "\n",
    "### Why Chi-Square Test?\n",
    "\n",
    "Purpose:\n",
    "\t- The Chi-Square test of independence is used to determine if there’s a statistically significant association between two categorical variables.\n",
    "\t- It essentially helps answer the question:\n",
    "“Does the survival outcome significantly depend on passenger class?”\n",
    "\n",
    "Intuition:\n",
    "\t- It compares the observed frequencies (how many people survived or didn’t survive in each class) with the expected frequencies (what you’d expect to see if there was no relationship between class and survival).\n",
    "\t- A significant Chi-Square statistic indicates a clear difference between observed and expected counts, implying dependence between variables.\n",
    "\n",
    "#### Chi-Square interpretation\n",
    "\n",
    "To check if there is a relationship\n",
    "\n",
    "| Output | Meaning |\n",
    "|--------|---------|\n",
    "| p < 0.05 | Statistically significant relationship -> the variables are associated |\n",
    "| p >= 0.05 | No strong evidence of association -> the variables may be independent |\n",
    "\n",
    "### Why Cramer’s V?\n",
    "\n",
    "Purpose:\n",
    "\t- While Chi-Square test only tells you whether there’s an association (yes/no), it does not quantify how strong that relationship is.\n",
    "\t- Cramer’s V solves this by providing a measure of strength of association between categorical variables, especially useful when categories exceed two.\n",
    "\n",
    "Intuition:\n",
    "\t- Cramer’s V value ranges from 0 to 1:\n",
    "\t- 0 indicates no relationship.\n",
    "\t- Values closer to 1 indicate a strong relationship.\n",
    "\n",
    "#### Cramer's V interpretation\n",
    "\n",
    "To measure how strong that relationship is\n",
    "\n",
    "| Cramer's V | Association Strength |\n",
    "|---------------|----------------------|\n",
    "| 0.00 -> 0.10 | Negligible |\n",
    "| 0.10 -> 0.20 | Weak |\n",
    "| 0.20 -> 0.40 | Moderate |\n",
    "| 0.40 -> 0.60 | Strong |\n",
    "| 0.60 -> 0.80 | Very Strong |\n",
    "| 0.80 -> 1.00 | Near-perfect |\n",
    "\n",
    "\n"
   ]
  },
  {
   "cell_type": "code",
   "execution_count": 14,
   "id": "fab6366e",
   "metadata": {},
   "outputs": [],
   "source": [
    "from scipy.stats import chi2_contingency\n",
    "\n",
    "def cramers_v(x, y):\n",
    "    confusion_matrix = pd.crosstab(x, y)\n",
    "    chi2, p, dof, expected = chi2_contingency(confusion_matrix)\n",
    "    n = confusion_matrix.sum().sum()\n",
    "    phi2 = chi2 / n\n",
    "    r, k = confusion_matrix.shape\n",
    "    phi2corr = max(0, phi2 - ((k - 1)*(r - 1)) / (n - 1))  # Bias correction\n",
    "    rcorr = r - ((r - 1)**2) / (n - 1)\n",
    "    kcorr = k - ((k - 1)**2) / (n - 1)\n",
    "    return np.sqrt(phi2corr / min((kcorr - 1), (rcorr - 1)))\n",
    "\n",
    "\n",
    "def chi_sqr_test(x, y):\n",
    "    # Create contingency table\n",
    "    confusion_matrix = pd.crosstab(x, y)\n",
    "    # Run the test\n",
    "    chi2, p, dof, expected = chi2_contingency(confusion_matrix)\n",
    "    return chi2, p, dof, expected"
   ]
  },
  {
   "cell_type": "code",
   "execution_count": 15,
   "id": "cd934ee6",
   "metadata": {},
   "outputs": [
    {
     "name": "stdout",
     "output_type": "stream",
     "text": [
      "Chi-Square Statistic: 102.88898875696056\n",
      "p-value: 4.549251711298793e-23\n"
     ]
    }
   ],
   "source": [
    "# Create contingency table\n",
    "table = pd.crosstab(train['Pclass'], train['Survived'])\n",
    "\n",
    "# Run the test\n",
    "#chi2, p, dof, expected = chi2_contingency(table)\n",
    "\n",
    "chi2, p, dof, expected = chi_sqr_test(train['Pclass'], train['Survived'])\n",
    "\n",
    "print(f\"Chi-Square Statistic: {chi2}\")\n",
    "print(f\"p-value: {p}\")"
   ]
  },
  {
   "cell_type": "code",
   "execution_count": 16,
   "id": "df4a6248",
   "metadata": {},
   "outputs": [
    {
     "name": "stdout",
     "output_type": "stream",
     "text": [
      "Cramér’s V (Pclass vs Survived): 0.337\n"
     ]
    }
   ],
   "source": [
    "v = cramers_v(train['Pclass'], train['Survived'])\n",
    "print(f\"Cramér’s V (Pclass vs Survived): {v:.3f}\")"
   ]
  },
  {
   "cell_type": "markdown",
   "id": "2cd99b4a",
   "metadata": {},
   "source": [
    "### Result for PClass and Survived\n",
    "\n",
    "| Test | Result | Interpretation |\n",
    "|------|--------|----------------|\n",
    "| Chi-Square | Statistic = 102.89, p-value ~ 4.5e-23 | Highly significant association between Pclass and Survived (not due to chance) |\n",
    "| Cramer's V | 0.337 | Moderate association (fairly predictive) |\n"
   ]
  },
  {
   "cell_type": "code",
   "execution_count": 17,
   "id": "658cb42b",
   "metadata": {},
   "outputs": [
    {
     "name": "stdout",
     "output_type": "stream",
     "text": [
      "    Feature  Chi-Square Statistic  Chi-Square p-value  Cramer's V\n",
      "0       Sex            260.717020        1.197357e-58       0.540\n",
      "1    Ticket            766.569703        1.152730e-02       0.311\n",
      "2     Cabin            161.250000        1.835735e-01       0.268\n",
      "3  Embarked             26.489150        1.769922e-06       0.166\n",
      "4    Pclass            102.888989        4.549252e-23       0.337\n"
     ]
    }
   ],
   "source": [
    "# Get all categorical columns\n",
    "categorical_columns = train.select_dtypes(include=['object', 'category']).columns.tolist()\n",
    "\n",
    "# Add any numeric categorical features manually\n",
    "#print(categorical_columns)\n",
    "#print(list(set(train.columns.tolist()) - set(categorical_columns)))\n",
    "categorical_columns += ['Pclass']\n",
    "\n",
    "# Remove the Name field\n",
    "categorical_columns.remove('Name')\n",
    "\n",
    "# Calculate Cramér's V for each vs Survived\n",
    "results = []\n",
    "\n",
    "for col in categorical_columns:\n",
    "    try:\n",
    "        # Create contingency table\n",
    "        confusion_matrix = pd.crosstab(train[col], train['Survived'])\n",
    "        # Run the Chi-Squared test\n",
    "        chi2, p, dof, expected = chi2_contingency(confusion_matrix)\n",
    "\n",
    "        n = confusion_matrix.sum().sum()\n",
    "        phi2 = chi2 / n\n",
    "        r, k = confusion_matrix.shape\n",
    "        phi2corr = max(0, phi2 - ((k - 1)*(r - 1)) / (n - 1))  # Bias correction\n",
    "        rcorr = r - ((r - 1)**2) / (n - 1)\n",
    "        kcorr = k - ((k - 1)**2) / (n - 1)\n",
    "        cramers_v = np.sqrt(phi2corr / min((kcorr - 1), (rcorr - 1)))\n",
    "\n",
    "        results.append((col, chi2, p, round(cramers_v, 3)))\n",
    "        \n",
    "\n",
    "    except:\n",
    "        results.append((col, 'Error', 'Error', 'Error'))\n",
    "\n",
    "# Create and sort results table ---\n",
    "results_df = pd.DataFrame(results, columns=['Feature', \"Chi-Square Statistic\", \"Chi-Square p-value\", \"Cramer's V\"])\n",
    "#results_df = results_df.sort_values(by=\"Feature\", ascending=True)\n",
    "\n",
    "print(results_df)"
   ]
  },
  {
   "cell_type": "markdown",
   "id": "19de39c2",
   "metadata": {},
   "source": [
    "|  Feature  |  Chi-Square Statistic  |  Chi-Square p-value  |  Cramer's V  |  Significance  |  Strength of Relationship  |\n",
    "|-----------|------------------------|----------------------|--------------|----------------|----------------------------|\n",
    "|  Sex  |  260.717020  |  1.197357e-58  |  0.540  |  Highly Significant  |  Strong  |\n",
    "|  Ticket  |  766.569703  |  1.152730e-02  |  0.311  |  Significant  |  Moderate  |\n",
    "|  Cabin  |  161.250000  |  1.835735e-01  |  0.268  |  Not Significant  |  Weak/Moderate  |\n",
    "|  Embarked  |  26.489150  |  1.769922e-06  |  0.166  |  Highly Significant  |  Week but notable  |\n",
    "|  Pclass  |  102.888989  |  4.549252e-23  |  0.337  |  Highly Significant  |  Moderate  |\n",
    "\n",
    "#### Sex\n",
    "- Chi-Square p-value: Extremely small; definitely significant.\n",
    "- Cramer’s V: 0.540 indicating a very strong relationship.\n",
    "- Interpretation: Gender is clearly one of the strongest predictors for survival.\n",
    "- Action: Definitely retain and prioritize for modeling.\n",
    "\n",
    "#### Ticket\n",
    "- Chi-Square p-value: 0.01153; statistically significant.\n",
    "- Cramer’s V: 0.311 indicates moderate strength.\n",
    "- Interpretation: Ticket number shows moderate association, but caution needed—Ticket may have high cardinality (many unique values), complicating modeling.\n",
    "- Action: Consider extracting meaningful info from ticket (e.g., ticket prefix) or otherwise simplify. If too complex, you might exclude this field or simplify its representation.\n",
    "\n",
    "#### Cabin\n",
    "- Chi-Square p-value: 0.1836; not statistically significant.\n",
    "- Cramer’s V: 0.268 suggests a weak/moderate association but it’s not statistically supported.\n",
    "- Interpretation: Cabin has a lot of missing data, too many unique values, and weak statistical relevance.\n",
    "- Action: Likely candidate for dropping or significant simplification (e.g., extract cabin-deck letter A, B, C etc., and re-check significance).\n",
    "\n",
    "#### Embarked\n",
    "- Chi-Square p-value: 1.77e-06; highly significant.\n",
    "- Cramer’s V: 0.166 suggests weak but meaningful association.\n",
    "- Interpretation: Port of embarkation slightly impacts survival odds.\n",
    "- Action: Retain in modeling, since it’s statistically significant, but keep expectations modest about predictive power.\n",
    "\n",
    "#### Pclass\n",
    "- Chi-Square p-value: 4.55e-23; highly significant.\n",
    "- Cramer’s V: 0.337 indicating a moderate but clear association.\n",
    "- Interpretation: Passenger class is a crucial predictor of survival.\n",
    "- Action: Strongly retain and use directly in modeling.\n"
   ]
  },
  {
   "cell_type": "code",
   "execution_count": 18,
   "id": "927e6434",
   "metadata": {},
   "outputs": [
    {
     "name": "stderr",
     "output_type": "stream",
     "text": [
      "/var/folders/1v/yp3pf2fd283b189f253c28m40000gn/T/ipykernel_9114/2565842017.py:3: FutureWarning: \n",
      "\n",
      "Passing `palette` without assigning `hue` is deprecated and will be removed in v0.14.0. Assign the `y` variable to `hue` and set `legend=False` for the same effect.\n",
      "\n",
      "  sns.barplot(data=results_df, x=\"Cramer's V\", y=\"Feature\", palette=\"Blues_d\")\n"
     ]
    },
    {
     "data": {
      "image/png": "[encoded data removed]",
      "text/plain": [
       "<Figure size 1000x600 with 1 Axes>"
      ]
     },
     "metadata": {},
     "output_type": "display_data"
    }
   ],
   "source": [
    "# Bar plot of Cramér's V\n",
    "plt.figure(figsize=(10, 6))\n",
    "sns.barplot(data=results_df, x=\"Cramer's V\", y=\"Feature\", palette=\"Blues_d\")\n",
    "plt.title(\"Cramér's V – Strength of Association with Survived\")\n",
    "plt.xlabel(\"Cramér's V (0–1 scale)\")\n",
    "plt.tight_layout()\n",
    "plt.show()"
   ]
  },
  {
   "cell_type": "code",
   "execution_count": 19,
   "id": "a64c7132",
   "metadata": {},
   "outputs": [
    {
     "data": {
      "text/plain": [
       "Sex           0\n",
       "Pclass        0\n",
       "Embarked      2\n",
       "Cabin       687\n",
       "Ticket        0\n",
       "dtype: int64"
      ]
     },
     "execution_count": 19,
     "metadata": {},
     "output_type": "execute_result"
    }
   ],
   "source": [
    "train[['Sex', 'Pclass', 'Embarked', 'Cabin', 'Ticket']].isnull().sum()"
   ]
  },
  {
   "cell_type": "code",
   "execution_count": 20,
   "id": "3ce7652f",
   "metadata": {},
   "outputs": [
    {
     "data": {
      "text/plain": [
       "Ticket\n",
       "347082      7\n",
       "CA. 2343    7\n",
       "1601        7\n",
       "3101295     6\n",
       "CA 2144     6\n",
       "           ..\n",
       "9234        1\n",
       "19988       1\n",
       "2693        1\n",
       "PC 17612    1\n",
       "370376      1\n",
       "Name: count, Length: 681, dtype: int64"
      ]
     },
     "execution_count": 20,
     "metadata": {},
     "output_type": "execute_result"
    }
   ],
   "source": [
    "train['Ticket'].value_counts()"
   ]
  },
  {
   "cell_type": "code",
   "execution_count": 21,
   "id": "b260d197",
   "metadata": {},
   "outputs": [
    {
     "data": {
      "text/plain": [
       "Ticket\n",
       "None          661\n",
       "PC             60\n",
       "C.A.           27\n",
       "STON/O         12\n",
       "A/5            10\n",
       "W./C.           9\n",
       "CA.             8\n",
       "SOTON/O.Q.      8\n",
       "A/5.            7\n",
       "SOTON/OQ        7\n",
       "STON/O2.        6\n",
       "CA              6\n",
       "F.C.C.          5\n",
       "C               5\n",
       "SC/PARIS        5\n",
       "S.O.C.          5\n",
       "SC/Paris        4\n",
       "LINE            4\n",
       "A/4             3\n",
       "PP              3\n",
       "A/4.            3\n",
       "S.O./P.P.       3\n",
       "SC/AH           3\n",
       "A.5.            2\n",
       "A./5.           2\n",
       "P/PP            2\n",
       "WE/P            2\n",
       "SOTON/O2        2\n",
       "S.C./PARIS      2\n",
       "S.W./PP         1\n",
       "F.C.            1\n",
       "A/S             1\n",
       "SO/C            1\n",
       "W/C             1\n",
       "SC              1\n",
       "SCO/W           1\n",
       "SW/PP           1\n",
       "Fa              1\n",
       "S.O.P.          1\n",
       "S.C./A.4.       1\n",
       "A4.             1\n",
       "S.P.            1\n",
       "W.E.P.          1\n",
       "C.A./SOTON      1\n",
       "Name: count, dtype: int64"
      ]
     },
     "execution_count": 21,
     "metadata": {},
     "output_type": "execute_result"
    }
   ],
   "source": [
    "train['Ticket'].apply(lambda x: x.split()[0] if not x.split()[0].isdigit() else 'None').value_counts()"
   ]
  },
  {
   "cell_type": "markdown",
   "id": "1e7e1b8f",
   "metadata": {},
   "source": [
    "## Explore Numeric Fields\n",
    "\n",
    "#### Step 1: Check for NULL/Blank values"
   ]
  },
  {
   "cell_type": "code",
   "execution_count": 22,
   "id": "edb0100a",
   "metadata": {},
   "outputs": [
    {
     "data": {
      "text/plain": [
       "Age      177\n",
       "Fare       0\n",
       "SibSp      0\n",
       "Parch      0\n",
       "dtype: int64"
      ]
     },
     "execution_count": 22,
     "metadata": {},
     "output_type": "execute_result"
    }
   ],
   "source": [
    "train[['Age', 'Fare', 'SibSp', 'Parch']].isnull().sum()\n"
   ]
  },
  {
   "cell_type": "markdown",
   "id": "5e111df2",
   "metadata": {},
   "source": [
    "#### Interpratation for Step 1\n",
    "\n",
    "- Age has 177 missing values. That’s a substantial portion and needs addressing clearly before modeling.\n",
    "- Fare, SibSp, and Parch have no missing values. No immediate cleaning needed here.\n",
    "    \n",
    "#### Perform cleaning for Age\n",
    "\n",
    "- Assign a dummy data for Age.\n",
    "- In this activity, we will assign the median value based on Sex/Gender"
   ]
  },
  {
   "cell_type": "code",
   "execution_count": 23,
   "id": "0ff9691e",
   "metadata": {},
   "outputs": [
    {
     "name": "stdout",
     "output_type": "stream",
     "text": [
      "There are 202 Age values with decimals.\n"
     ]
    },
    {
     "data": {
      "text/plain": [
       "Age      0\n",
       "Fare     0\n",
       "SibSp    0\n",
       "Parch    0\n",
       "dtype: int64"
      ]
     },
     "execution_count": 23,
     "metadata": {},
     "output_type": "execute_result"
    }
   ],
   "source": [
    "# Check if Age is a whole number or has decimals\n",
    "\n",
    "decimal_count = (train_raw['Age'] % 1 != 0).sum()\n",
    "print(f\"There are {decimal_count} Age values with decimals.\")\n",
    "\n",
    "# Apply dummy median value on missing age\n",
    "train['Age'] = train.groupby(['Sex'])['Age'].transform(\n",
    "    lambda x: x.fillna(x.median())\n",
    ")\n",
    "\n",
    "# Rerun the check\n",
    "train[['Age', 'Fare', 'SibSp', 'Parch']].isnull().sum()"
   ]
  },
  {
   "cell_type": "markdown",
   "id": "5d3e9bee",
   "metadata": {},
   "source": [
    "#### Interpretaion\n",
    "- No more blank values for Age\n",
    "\n",
    "#### Step 1: Describe the dataset"
   ]
  },
  {
   "cell_type": "code",
   "execution_count": 24,
   "id": "6881bbc6",
   "metadata": {},
   "outputs": [
    {
     "data": {
      "application/vnd.microsoft.datawrangler.viewer.v0+json": {
       "columns": [
        {
         "name": "index",
         "rawType": "object",
         "type": "string"
        },
        {
         "name": "Age",
         "rawType": "float64",
         "type": "float"
        },
        {
         "name": "Fare",
         "rawType": "float64",
         "type": "float"
        },
        {
         "name": "SibSp",
         "rawType": "float64",
         "type": "float"
        },
        {
         "name": "Parch",
         "rawType": "float64",
         "type": "float"
        }
       ],
       "conversionMethod": "pd.DataFrame",
       "ref": "9fa0f49f-8523-46d8-a83e-39e6f2d6e09c",
       "rows": [
        [
         "count",
         "891.0",
         "891.0",
         "891.0",
         "891.0"
        ],
        [
         "mean",
         "29.441268237934903",
         "32.204207968574636",
         "0.5230078563411896",
         "0.38159371492704824"
        ],
        [
         "std",
         "13.018747116356971",
         "49.6934285971809",
         "1.1027434322934317",
         "0.8060572211299483"
        ],
        [
         "min",
         "0.42",
         "0.0",
         "0.0",
         "0.0"
        ],
        [
         "25%",
         "22.0",
         "7.9104",
         "0.0",
         "0.0"
        ],
        [
         "50%",
         "29.0",
         "14.4542",
         "0.0",
         "0.0"
        ],
        [
         "75%",
         "35.0",
         "31.0",
         "1.0",
         "0.0"
        ],
        [
         "max",
         "80.0",
         "512.3292",
         "8.0",
         "6.0"
        ]
       ],
       "shape": {
        "columns": 4,
        "rows": 8
       }
      },
      "text/html": [
       "<div>\n",
       "<style scoped>\n",
       "    .dataframe tbody tr th:only-of-type {\n",
       "        vertical-align: middle;\n",
       "    }\n",
       "\n",
       "    .dataframe tbody tr th {\n",
       "        vertical-align: top;\n",
       "    }\n",
       "\n",
       "    .dataframe thead th {\n",
       "        text-align: right;\n",
       "    }\n",
       "</style>\n",
       "<table border=\"1\" class=\"dataframe\">\n",
       "  <thead>\n",
       "    <tr style=\"text-align: right;\">\n",
       "      <th></th>\n",
       "      <th>Age</th>\n",
       "      <th>Fare</th>\n",
       "      <th>SibSp</th>\n",
       "      <th>Parch</th>\n",
       "    </tr>\n",
       "  </thead>\n",
       "  <tbody>\n",
       "    <tr>\n",
       "      <th>count</th>\n",
       "      <td>891.000000</td>\n",
       "      <td>891.000000</td>\n",
       "      <td>891.000000</td>\n",
       "      <td>891.000000</td>\n",
       "    </tr>\n",
       "    <tr>\n",
       "      <th>mean</th>\n",
       "      <td>29.441268</td>\n",
       "      <td>32.204208</td>\n",
       "      <td>0.523008</td>\n",
       "      <td>0.381594</td>\n",
       "    </tr>\n",
       "    <tr>\n",
       "      <th>std</th>\n",
       "      <td>13.018747</td>\n",
       "      <td>49.693429</td>\n",
       "      <td>1.102743</td>\n",
       "      <td>0.806057</td>\n",
       "    </tr>\n",
       "    <tr>\n",
       "      <th>min</th>\n",
       "      <td>0.420000</td>\n",
       "      <td>0.000000</td>\n",
       "      <td>0.000000</td>\n",
       "      <td>0.000000</td>\n",
       "    </tr>\n",
       "    <tr>\n",
       "      <th>25%</th>\n",
       "      <td>22.000000</td>\n",
       "      <td>7.910400</td>\n",
       "      <td>0.000000</td>\n",
       "      <td>0.000000</td>\n",
       "    </tr>\n",
       "    <tr>\n",
       "      <th>50%</th>\n",
       "      <td>29.000000</td>\n",
       "      <td>14.454200</td>\n",
       "      <td>0.000000</td>\n",
       "      <td>0.000000</td>\n",
       "    </tr>\n",
       "    <tr>\n",
       "      <th>75%</th>\n",
       "      <td>35.000000</td>\n",
       "      <td>31.000000</td>\n",
       "      <td>1.000000</td>\n",
       "      <td>0.000000</td>\n",
       "    </tr>\n",
       "    <tr>\n",
       "      <th>max</th>\n",
       "      <td>80.000000</td>\n",
       "      <td>512.329200</td>\n",
       "      <td>8.000000</td>\n",
       "      <td>6.000000</td>\n",
       "    </tr>\n",
       "  </tbody>\n",
       "</table>\n",
       "</div>"
      ],
      "text/plain": [
       "              Age        Fare       SibSp       Parch\n",
       "count  891.000000  891.000000  891.000000  891.000000\n",
       "mean    29.441268   32.204208    0.523008    0.381594\n",
       "std     13.018747   49.693429    1.102743    0.806057\n",
       "min      0.420000    0.000000    0.000000    0.000000\n",
       "25%     22.000000    7.910400    0.000000    0.000000\n",
       "50%     29.000000   14.454200    0.000000    0.000000\n",
       "75%     35.000000   31.000000    1.000000    0.000000\n",
       "max     80.000000  512.329200    8.000000    6.000000"
      ]
     },
     "execution_count": 24,
     "metadata": {},
     "output_type": "execute_result"
    }
   ],
   "source": [
    "train[['Age', 'Fare', 'SibSp', 'Parch']].describe()"
   ]
  },
  {
   "cell_type": "markdown",
   "id": "5df36812",
   "metadata": {},
   "source": [
    "\n",
    "#### Interpratation for Step 1\n",
    "\n",
    "- Age\n",
    "    - Cleaned successfully.\n",
    "    - Mean ≈ Median → Distribution is likely close to normal (but we’ll confirm this in Step 2).\n",
    "    - Range from infant (0.42) to elderly (80) → large age spread.\n",
    "- Fare\n",
    "    - Large gap between mean and median (32.2 vs. 14.45).\n",
    "    - Std dev (49.69) is even larger than the mean → strong indicator of outliers and skew.\n",
    "    - Needs transformation consideration later (log scale maybe).\n",
    "- SibSp & Parch\n",
    "    - Very low median, meaning most people traveled alone (0).\n",
    "    - Max values (8 & 6) may be extreme cases → likely outliers.\n",
    "    - May benefit from binning or combining into one feature later (FamilySize).\n",
    "\n",
    "#### Step 2: Visualizing Distributions\n",
    "\n"
   ]
  },
  {
   "cell_type": "code",
   "execution_count": 25,
   "id": "8d1dda99",
   "metadata": {},
   "outputs": [
    {
     "data": {
      "image/png": "[encoded data removed]",
      "text/plain": [
       "<Figure size 800x400 with 1 Axes>"
      ]
     },
     "metadata": {},
     "output_type": "display_data"
    },
    {
     "data": {
      "image/png": "[encoded data removed]",
      "text/plain": [
       "<Figure size 800x400 with 1 Axes>"
      ]
     },
     "metadata": {},
     "output_type": "display_data"
    },
    {
     "data": {
      "image/png": "[encoded data removed]",
      "text/plain": [
       "<Figure size 800x400 with 1 Axes>"
      ]
     },
     "metadata": {},
     "output_type": "display_data"
    },
    {
     "data": {
      "image/png": "[encoded data removed]",
      "text/plain": [
       "<Figure size 800x400 with 1 Axes>"
      ]
     },
     "metadata": {},
     "output_type": "display_data"
    }
   ],
   "source": [
    "num_features = ['Age', 'Fare', 'SibSp', 'Parch']\n",
    "\n",
    "for feature in num_features:\n",
    "    plt.figure(figsize=(8,4))\n",
    "    sns.histplot(train[feature].dropna(), kde=True, bins=30)\n",
    "    plt.title(f'Distribution of {feature}')\n",
    "    plt.show()"
   ]
  },
  {
   "cell_type": "code",
   "execution_count": 26,
   "id": "104e093b",
   "metadata": {},
   "outputs": [
    {
     "data": {
      "image/png": "[encoded data removed]",
      "text/plain": [
       "<Figure size 600x300 with 1 Axes>"
      ]
     },
     "metadata": {},
     "output_type": "display_data"
    },
    {
     "data": {
      "image/png": "[encoded data removed]",
      "text/plain": [
       "<Figure size 600x300 with 1 Axes>"
      ]
     },
     "metadata": {},
     "output_type": "display_data"
    },
    {
     "data": {
      "image/png": "[encoded data removed]",
      "text/plain": [
       "<Figure size 600x300 with 1 Axes>"
      ]
     },
     "metadata": {},
     "output_type": "display_data"
    },
    {
     "data": {
      "image/png": "[encoded data removed]",
      "text/plain": [
       "<Figure size 600x300 with 1 Axes>"
      ]
     },
     "metadata": {},
     "output_type": "display_data"
    }
   ],
   "source": [
    "for feature in num_features:\n",
    "    plt.figure(figsize=(6,3))\n",
    "    sns.boxplot(x=train[feature])\n",
    "    plt.title(f'Boxplot of {feature}')\n",
    "    plt.show()"
   ]
  },
  {
   "cell_type": "markdown",
   "id": "bc4952f6",
   "metadata": {},
   "source": [
    "#### Interpratation for Step 2\n",
    "\n",
    "##### Age\n",
    "- Histogram + KDE:\n",
    "    - The distribution is approximately normal but with a sharp spike at ~29 (from median imputation).\n",
    "    - Slight right skew (tail to the right).\n",
    "    - Clear peak where missing values were filled.\n",
    "\n",
    "- Boxplot:\n",
    "    - Mild outliers observed above ~60 and below age 5.\n",
    "    - No extreme anomalies — this looks acceptable.\n",
    "\n",
    "- Recommendation:\n",
    "    - Keep Age as is.\n",
    "    - If you want to reduce the spike, consider modeling missing values using group-wise medians in future projects (e.g., by Sex and Pclass).\n",
    "    - No log transform needed. Outliers can be left as-is for now unless model sensitivity is an issue.\n",
    "\n",
    "##### Fare\n",
    "\n",
    "- Histogram + KDE:\n",
    "    - Heavily right-skewed — most values under 50, but some fares go as high as 512.\n",
    "    - Clear long tail (extreme outliers).\n",
    "\n",
    "- Boxplot:\n",
    "    - Many strong outliers.\n",
    "    - Huge spread — the max value is far from the median.\n",
    "\n",
    "- Recommendation:\n",
    "    - Consider applying a log transformation to normalize distribution. This helps many ML models (especially linear/logistic regression) perform better.\n",
    "\n",
    "##### SibSp (Siblings/Spouses Aboard)\n",
    "\n",
    "- Histogram:\n",
    "    - Most values = 0 (people traveled alone).\n",
    "    - Few people had 1 or 2 siblings/spouses. Sparse distribution for values > 2.\n",
    "\n",
    "- Boxplot:\n",
    "    - Outliers appear at values 3 to 8.\n",
    "    - Right skewed.\n",
    "\n",
    "- Recommendation:\n",
    "    - Keep as-is or consider binning into categories:\n",
    "    - Alone (0)\n",
    "    - Small family (1–2)\n",
    "    - Large family (3+)\n",
    "\n",
    "##### Parch (Parents/Children Aboard)\n",
    "\n",
    "- Histogram:\n",
    "    - Most values = 0, like SibSp.\n",
    "    - Few values > 2. Sparse distribution beyond that.\n",
    "\n",
    "- Boxplot:\n",
    "    - Significant number of outliers from 3 to 6.\n",
    "    - Distribution is extremely right-skewed.\n",
    "\n",
    "- Recommendation:\n",
    "    - Same approach as SibSp:\n",
    "    - Keep as-is or\n",
    "    - Bin similarly to simplify categories.\n",
    "    - Combine with SibSp to create Family Size\n",
    "\n",
    "#### Perform cleanup for Step 2"
   ]
  },
  {
   "cell_type": "code",
   "execution_count": 27,
   "id": "f01ffecf",
   "metadata": {},
   "outputs": [],
   "source": [
    "\n",
    "# Log Transformation\n",
    "\n",
    "train['Fare_log'] = train['Fare'].apply(lambda x: np.log(x + 1))  # +1 to handle Fare = 0\n",
    "\n",
    "# Combine SibSp and Parch to create Family Size\n",
    "\n",
    "train['FamilySize'] = train['SibSp'] + train['Parch'] + 1  # +1 includes the passenger themselves"
   ]
  },
  {
   "cell_type": "code",
   "execution_count": 28,
   "id": "b7fb5eba",
   "metadata": {},
   "outputs": [
    {
     "data": {
      "image/png": "[encoded data removed]",
      "text/plain": [
       "<Figure size 800x400 with 1 Axes>"
      ]
     },
     "metadata": {},
     "output_type": "display_data"
    },
    {
     "data": {
      "image/png": "[encoded data removed]",
      "text/plain": [
       "<Figure size 800x400 with 1 Axes>"
      ]
     },
     "metadata": {},
     "output_type": "display_data"
    },
    {
     "data": {
      "image/png": "[encoded data removed]",
      "text/plain": [
       "<Figure size 800x400 with 1 Axes>"
      ]
     },
     "metadata": {},
     "output_type": "display_data"
    },
    {
     "data": {
      "image/png": "[encoded data removed]",
      "text/plain": [
       "<Figure size 600x300 with 1 Axes>"
      ]
     },
     "metadata": {},
     "output_type": "display_data"
    },
    {
     "data": {
      "image/png": "[encoded data removed]",
      "text/plain": [
       "<Figure size 600x300 with 1 Axes>"
      ]
     },
     "metadata": {},
     "output_type": "display_data"
    },
    {
     "data": {
      "image/png": "[encoded data removed]",
      "text/plain": [
       "<Figure size 600x300 with 1 Axes>"
      ]
     },
     "metadata": {},
     "output_type": "display_data"
    }
   ],
   "source": [
    "num_features = ['Age', 'Fare_log', 'FamilySize']\n",
    "\n",
    "for feature in num_features:\n",
    "    plt.figure(figsize=(8,4))\n",
    "    sns.histplot(train[feature].dropna(), kde=True, bins=30)\n",
    "    plt.title(f'Distribution of {feature}')\n",
    "    plt.show()\n",
    "\n",
    "for feature in num_features:\n",
    "    plt.figure(figsize=(6,3))\n",
    "    sns.boxplot(x=train[feature])\n",
    "    plt.title(f'Boxplot of {feature}')\n",
    "    plt.show()"
   ]
  },
  {
   "cell_type": "markdown",
   "id": "db573333",
   "metadata": {},
   "source": [
    "#### Interpratation for Step 2 (After Cleanup)\n",
    "\n",
    "##### Age\n",
    "- No changes\n",
    "\n",
    "##### Fare_Log (Log Transformation for Fare)\n",
    "\n",
    "- Histogram + KDE:\n",
    "    - Much more normalized than original Fare.\n",
    "    - The long tail has been compressed.\n",
    "    - The spike near ~2.2 is likely due to low fare passengers and those with fare = 0 (after log(1)).\n",
    "\n",
    "- Boxplot:\n",
    "    - Fewer extreme outliers compared to the raw Fare plot.\n",
    "    - Much more compact and centered — ideal for models sensitive to skew (like logistic regression, linear models).\n",
    "\n",
    "- Recommendation:\n",
    "    - Keep Fare_log for modeling instead of raw Fare.\n",
    "\n",
    "##### FamilySize (SibSp + Parch + 1)\n",
    "\n",
    "- Histogram:\n",
    "    - Very right-skewed, with most passengers traveling alone (FamilySize = 1).\n",
    "    - Fewer passengers in larger groups, but non-zero.\n",
    "\n",
    "- Boxplot:\n",
    "    - Clear outliers above 4, but this is expected given large families were rare.\n",
    "    - Skew is fine here because it’s discrete and small-scale.\n",
    "\n",
    "- Recommendation:\n",
    "    - Keep FamilySize as a feature.\n",
    "    - Then Create a bin into groups: Alone, Small (2–4), Large (5+)\n",
    "    - Then apply one-hot encoding\n",
    "    \n"
   ]
  },
  {
   "cell_type": "code",
   "execution_count": 29,
   "id": "5b6587ec",
   "metadata": {},
   "outputs": [
    {
     "data": {
      "application/vnd.microsoft.datawrangler.viewer.v0+json": {
       "columns": [
        {
         "name": "index",
         "rawType": "int64",
         "type": "integer"
        },
        {
         "name": "PassengerId",
         "rawType": "int64",
         "type": "integer"
        },
        {
         "name": "Survived",
         "rawType": "int64",
         "type": "integer"
        },
        {
         "name": "Pclass",
         "rawType": "int64",
         "type": "integer"
        },
        {
         "name": "Name",
         "rawType": "object",
         "type": "string"
        },
        {
         "name": "Sex",
         "rawType": "object",
         "type": "string"
        },
        {
         "name": "Age",
         "rawType": "float64",
         "type": "float"
        },
        {
         "name": "SibSp",
         "rawType": "int64",
         "type": "integer"
        },
        {
         "name": "Parch",
         "rawType": "int64",
         "type": "integer"
        },
        {
         "name": "Ticket",
         "rawType": "object",
         "type": "string"
        },
        {
         "name": "Fare",
         "rawType": "float64",
         "type": "float"
        },
        {
         "name": "Cabin",
         "rawType": "object",
         "type": "unknown"
        },
        {
         "name": "Embarked",
         "rawType": "object",
         "type": "unknown"
        },
        {
         "name": "Pclass_2",
         "rawType": "int64",
         "type": "integer"
        },
        {
         "name": "Pclass_3",
         "rawType": "int64",
         "type": "integer"
        },
        {
         "name": "Fare_log",
         "rawType": "float64",
         "type": "float"
        },
        {
         "name": "FamilySize",
         "rawType": "int64",
         "type": "integer"
        },
        {
         "name": "FamilySizeGroup",
         "rawType": "object",
         "type": "string"
        }
       ],
       "conversionMethod": "pd.DataFrame",
       "ref": "063a347c-3492-4cc6-93c0-2b8c9d6f0745",
       "rows": [
        [
         "0",
         "1",
         "0",
         "3",
         "Braund, Mr. Owen Harris",
         "male",
         "22.0",
         "1",
         "0",
         "A/5 21171",
         "7.25",
         null,
         "S",
         "0",
         "1",
         "2.1102132003465894",
         "2",
         "Small"
        ],
        [
         "1",
         "2",
         "1",
         "1",
         "Cumings, Mrs. John Bradley (Florence Briggs Thayer)",
         "female",
         "38.0",
         "1",
         "0",
         "PC 17599",
         "71.2833",
         "C85",
         "C",
         "0",
         "0",
         "4.2805931204649",
         "2",
         "Small"
        ],
        [
         "2",
         "3",
         "1",
         "3",
         "Heikkinen, Miss. Laina",
         "female",
         "26.0",
         "0",
         "0",
         "STON/O2. 3101282",
         "7.925",
         null,
         "S",
         "0",
         "1",
         "2.188856327665703",
         "1",
         "Alone"
        ],
        [
         "3",
         "4",
         "1",
         "1",
         "Futrelle, Mrs. Jacques Heath (Lily May Peel)",
         "female",
         "35.0",
         "1",
         "0",
         "113803",
         "53.1",
         "C123",
         "S",
         "0",
         "0",
         "3.9908341858524357",
         "2",
         "Small"
        ],
        [
         "4",
         "5",
         "0",
         "3",
         "Allen, Mr. William Henry",
         "male",
         "35.0",
         "0",
         "0",
         "373450",
         "8.05",
         null,
         "S",
         "0",
         "1",
         "2.2027647577118348",
         "1",
         "Alone"
        ],
        [
         "5",
         "6",
         "0",
         "3",
         "Moran, Mr. James",
         "male",
         "29.0",
         "0",
         "0",
         "330877",
         "8.4583",
         null,
         "Q",
         "0",
         "1",
         "2.246892662898172",
         "1",
         "Alone"
        ],
        [
         "6",
         "7",
         "0",
         "1",
         "McCarthy, Mr. Timothy J",
         "male",
         "54.0",
         "0",
         "0",
         "17463",
         "51.8625",
         "E46",
         "S",
         "0",
         "0",
         "3.967694202798607",
         "1",
         "Alone"
        ],
        [
         "7",
         "8",
         "0",
         "3",
         "Palsson, Master. Gosta Leonard",
         "male",
         "2.0",
         "3",
         "1",
         "349909",
         "21.075",
         null,
         "S",
         "0",
         "1",
         "3.0944457464900235",
         "5",
         "Large"
        ],
        [
         "8",
         "9",
         "1",
         "3",
         "Johnson, Mrs. Oscar W (Elisabeth Vilhelmina Berg)",
         "female",
         "27.0",
         "0",
         "2",
         "347742",
         "11.1333",
         null,
         "S",
         "0",
         "1",
         "2.495953738718064",
         "3",
         "Small"
        ],
        [
         "9",
         "10",
         "1",
         "2",
         "Nasser, Mrs. Nicholas (Adele Achem)",
         "female",
         "14.0",
         "1",
         "0",
         "237736",
         "30.0708",
         null,
         "C",
         "1",
         "0",
         "3.436268471383741",
         "2",
         "Small"
        ],
        [
         "10",
         "11",
         "1",
         "3",
         "Sandstrom, Miss. Marguerite Rut",
         "female",
         "4.0",
         "1",
         "1",
         "PP 9549",
         "16.7",
         "G6",
         "S",
         "0",
         "1",
         "2.8735646395797834",
         "3",
         "Small"
        ],
        [
         "11",
         "12",
         "1",
         "1",
         "Bonnell, Miss. Elizabeth",
         "female",
         "58.0",
         "0",
         "0",
         "113783",
         "26.55",
         "C103",
         "S",
         "0",
         "0",
         "3.3160025355989236",
         "1",
         "Alone"
        ],
        [
         "12",
         "13",
         "0",
         "3",
         "Saundercock, Mr. William Henry",
         "male",
         "20.0",
         "0",
         "0",
         "A/5. 2151",
         "8.05",
         null,
         "S",
         "0",
         "1",
         "2.2027647577118348",
         "1",
         "Alone"
        ],
        [
         "13",
         "14",
         "0",
         "3",
         "Andersson, Mr. Anders Johan",
         "male",
         "39.0",
         "1",
         "5",
         "347082",
         "31.275",
         null,
         "S",
         "0",
         "1",
         "3.4742929367327062",
         "7",
         "Large"
        ],
        [
         "14",
         "15",
         "0",
         "3",
         "Vestrom, Miss. Hulda Amanda Adolfina",
         "female",
         "14.0",
         "0",
         "0",
         "350406",
         "7.8542",
         null,
         "S",
         "0",
         "1",
         "2.180891922715322",
         "1",
         "Alone"
        ],
        [
         "15",
         "16",
         "1",
         "2",
         "Hewlett, Mrs. (Mary D Kingcome) ",
         "female",
         "55.0",
         "0",
         "0",
         "248706",
         "16.0",
         null,
         "S",
         "1",
         "0",
         "2.833213344056216",
         "1",
         "Alone"
        ],
        [
         "16",
         "17",
         "0",
         "3",
         "Rice, Master. Eugene",
         "male",
         "2.0",
         "4",
         "1",
         "382652",
         "29.125",
         null,
         "Q",
         "0",
         "1",
         "3.405355391810819",
         "6",
         "Large"
        ],
        [
         "17",
         "18",
         "1",
         "2",
         "Williams, Mr. Charles Eugene",
         "male",
         "29.0",
         "0",
         "0",
         "244373",
         "13.0",
         null,
         "S",
         "1",
         "0",
         "2.6390573296152584",
         "1",
         "Alone"
        ],
        [
         "18",
         "19",
         "0",
         "3",
         "Vander Planke, Mrs. Julius (Emelia Maria Vandemoortele)",
         "female",
         "31.0",
         "1",
         "0",
         "345763",
         "18.0",
         null,
         "S",
         "0",
         "1",
         "2.9444389791664403",
         "2",
         "Small"
        ],
        [
         "19",
         "20",
         "1",
         "3",
         "Masselmani, Mrs. Fatima",
         "female",
         "27.0",
         "0",
         "0",
         "2649",
         "7.225",
         null,
         "C",
         "0",
         "1",
         "2.1071782966514356",
         "1",
         "Alone"
        ],
        [
         "20",
         "21",
         "0",
         "2",
         "Fynney, Mr. Joseph J",
         "male",
         "35.0",
         "0",
         "0",
         "239865",
         "26.0",
         null,
         "S",
         "1",
         "0",
         "3.295836866004329",
         "1",
         "Alone"
        ],
        [
         "21",
         "22",
         "1",
         "2",
         "Beesley, Mr. Lawrence",
         "male",
         "34.0",
         "0",
         "0",
         "248698",
         "13.0",
         "D56",
         "S",
         "1",
         "0",
         "2.6390573296152584",
         "1",
         "Alone"
        ],
        [
         "22",
         "23",
         "1",
         "3",
         "McGowan, Miss. Anna \"Annie\"",
         "female",
         "15.0",
         "0",
         "0",
         "330923",
         "8.0292",
         null,
         "Q",
         "0",
         "1",
         "2.2004637699272855",
         "1",
         "Alone"
        ],
        [
         "23",
         "24",
         "1",
         "1",
         "Sloper, Mr. William Thompson",
         "male",
         "28.0",
         "0",
         "0",
         "113788",
         "35.5",
         "A6",
         "S",
         "0",
         "0",
         "3.597312260588446",
         "1",
         "Alone"
        ],
        [
         "24",
         "25",
         "0",
         "3",
         "Palsson, Miss. Torborg Danira",
         "female",
         "8.0",
         "3",
         "1",
         "349909",
         "21.075",
         null,
         "S",
         "0",
         "1",
         "3.0944457464900235",
         "5",
         "Large"
        ],
        [
         "25",
         "26",
         "1",
         "3",
         "Asplund, Mrs. Carl Oscar (Selma Augusta Emilia Johansson)",
         "female",
         "38.0",
         "1",
         "5",
         "347077",
         "31.3875",
         null,
         "S",
         "0",
         "1",
         "3.4777725458882283",
         "7",
         "Large"
        ],
        [
         "26",
         "27",
         "0",
         "3",
         "Emir, Mr. Farred Chehab",
         "male",
         "29.0",
         "0",
         "0",
         "2631",
         "7.225",
         null,
         "C",
         "0",
         "1",
         "2.1071782966514356",
         "1",
         "Alone"
        ],
        [
         "27",
         "28",
         "0",
         "1",
         "Fortune, Mr. Charles Alexander",
         "male",
         "19.0",
         "3",
         "2",
         "19950",
         "263.0",
         "C23 C25 C27",
         "S",
         "0",
         "0",
         "5.575949103146316",
         "6",
         "Large"
        ],
        [
         "28",
         "29",
         "1",
         "3",
         "O'Dwyer, Miss. Ellen \"Nellie\"",
         "female",
         "27.0",
         "0",
         "0",
         "330959",
         "7.8792",
         null,
         "Q",
         "0",
         "1",
         "2.1837114628556327",
         "1",
         "Alone"
        ],
        [
         "29",
         "30",
         "0",
         "3",
         "Todoroff, Mr. Lalio",
         "male",
         "29.0",
         "0",
         "0",
         "349216",
         "7.8958",
         null,
         "S",
         "0",
         "1",
         "2.1855792552411137",
         "1",
         "Alone"
        ],
        [
         "30",
         "31",
         "0",
         "1",
         "Uruchurtu, Don. Manuel E",
         "male",
         "40.0",
         "0",
         "0",
         "PC 17601",
         "27.7208",
         null,
         "C",
         "0",
         "0",
         "3.357621598945279",
         "1",
         "Alone"
        ],
        [
         "31",
         "32",
         "1",
         "1",
         "Spencer, Mrs. William Augustus (Marie Eugenie)",
         "female",
         "27.0",
         "1",
         "0",
         "PC 17569",
         "146.5208",
         "B78",
         "C",
         "0",
         "0",
         "4.993969182787072",
         "2",
         "Small"
        ],
        [
         "32",
         "33",
         "1",
         "3",
         "Glynn, Miss. Mary Agatha",
         "female",
         "27.0",
         "0",
         "0",
         "335677",
         "7.75",
         null,
         "Q",
         "0",
         "1",
         "2.169053700369523",
         "1",
         "Alone"
        ],
        [
         "33",
         "34",
         "0",
         "2",
         "Wheadon, Mr. Edward H",
         "male",
         "66.0",
         "0",
         "0",
         "C.A. 24579",
         "10.5",
         null,
         "S",
         "1",
         "0",
         "2.4423470353692043",
         "1",
         "Alone"
        ],
        [
         "34",
         "35",
         "0",
         "1",
         "Meyer, Mr. Edgar Joseph",
         "male",
         "28.0",
         "1",
         "0",
         "PC 17604",
         "82.1708",
         null,
         "C",
         "0",
         "0",
         "4.420896324687287",
         "2",
         "Small"
        ],
        [
         "35",
         "36",
         "0",
         "1",
         "Holverson, Mr. Alexander Oskar",
         "male",
         "42.0",
         "1",
         "0",
         "113789",
         "52.0",
         null,
         "S",
         "0",
         "0",
         "3.970291913552122",
         "2",
         "Small"
        ],
        [
         "36",
         "37",
         "1",
         "3",
         "Mamee, Mr. Hanna",
         "male",
         "29.0",
         "0",
         "0",
         "2677",
         "7.2292",
         null,
         "C",
         "0",
         "1",
         "2.1076888046179385",
         "1",
         "Alone"
        ],
        [
         "37",
         "38",
         "0",
         "3",
         "Cann, Mr. Ernest Charles",
         "male",
         "21.0",
         "0",
         "0",
         "A./5. 2152",
         "8.05",
         null,
         "S",
         "0",
         "1",
         "2.2027647577118348",
         "1",
         "Alone"
        ],
        [
         "38",
         "39",
         "0",
         "3",
         "Vander Planke, Miss. Augusta Maria",
         "female",
         "18.0",
         "2",
         "0",
         "345764",
         "18.0",
         null,
         "S",
         "0",
         "1",
         "2.9444389791664403",
         "3",
         "Small"
        ],
        [
         "39",
         "40",
         "1",
         "3",
         "Nicola-Yarred, Miss. Jamila",
         "female",
         "14.0",
         "1",
         "0",
         "2651",
         "11.2417",
         null,
         "C",
         "0",
         "1",
         "2.5048481563289",
         "2",
         "Small"
        ],
        [
         "40",
         "41",
         "0",
         "3",
         "Ahlin, Mrs. Johan (Johanna Persdotter Larsson)",
         "female",
         "40.0",
         "1",
         "0",
         "7546",
         "9.475",
         null,
         "S",
         "0",
         "1",
         "2.348991465808201",
         "2",
         "Small"
        ],
        [
         "41",
         "42",
         "0",
         "2",
         "Turpin, Mrs. William John Robert (Dorothy Ann Wonnacott)",
         "female",
         "27.0",
         "1",
         "0",
         "11668",
         "21.0",
         null,
         "S",
         "1",
         "0",
         "3.091042453358316",
         "2",
         "Small"
        ],
        [
         "42",
         "43",
         "0",
         "3",
         "Kraeff, Mr. Theodor",
         "male",
         "29.0",
         "0",
         "0",
         "349253",
         "7.8958",
         null,
         "C",
         "0",
         "1",
         "2.1855792552411137",
         "1",
         "Alone"
        ],
        [
         "43",
         "44",
         "1",
         "2",
         "Laroche, Miss. Simonne Marie Anne Andree",
         "female",
         "3.0",
         "1",
         "2",
         "SC/Paris 2123",
         "41.5792",
         null,
         "C",
         "1",
         "0",
         "3.7513658711253766",
         "4",
         "Small"
        ],
        [
         "44",
         "45",
         "1",
         "3",
         "Devaney, Miss. Margaret Delia",
         "female",
         "19.0",
         "0",
         "0",
         "330958",
         "7.8792",
         null,
         "Q",
         "0",
         "1",
         "2.1837114628556327",
         "1",
         "Alone"
        ],
        [
         "45",
         "46",
         "0",
         "3",
         "Rogers, Mr. William John",
         "male",
         "29.0",
         "0",
         "0",
         "S.C./A.4. 23567",
         "8.05",
         null,
         "S",
         "0",
         "1",
         "2.2027647577118348",
         "1",
         "Alone"
        ],
        [
         "46",
         "47",
         "0",
         "3",
         "Lennon, Mr. Denis",
         "male",
         "29.0",
         "1",
         "0",
         "370371",
         "15.5",
         null,
         "Q",
         "0",
         "1",
         "2.803360380906535",
         "2",
         "Small"
        ],
        [
         "47",
         "48",
         "1",
         "3",
         "O'Driscoll, Miss. Bridget",
         "female",
         "27.0",
         "0",
         "0",
         "14311",
         "7.75",
         null,
         "Q",
         "0",
         "1",
         "2.169053700369523",
         "1",
         "Alone"
        ],
        [
         "48",
         "49",
         "0",
         "3",
         "Samaan, Mr. Youssef",
         "male",
         "29.0",
         "2",
         "0",
         "2662",
         "21.6792",
         null,
         "C",
         "0",
         "1",
         "3.1214482048688246",
         "3",
         "Small"
        ],
        [
         "49",
         "50",
         "0",
         "3",
         "Arnold-Franchi, Mrs. Josef (Josefine Franchi)",
         "female",
         "18.0",
         "1",
         "0",
         "349237",
         "17.8",
         null,
         "S",
         "0",
         "1",
         "2.9338568698359038",
         "2",
         "Small"
        ]
       ],
       "shape": {
        "columns": 17,
        "rows": 891
       }
      },
      "text/html": [
       "<div>\n",
       "<style scoped>\n",
       "    .dataframe tbody tr th:only-of-type {\n",
       "        vertical-align: middle;\n",
       "    }\n",
       "\n",
       "    .dataframe tbody tr th {\n",
       "        vertical-align: top;\n",
       "    }\n",
       "\n",
       "    .dataframe thead th {\n",
       "        text-align: right;\n",
       "    }\n",
       "</style>\n",
       "<table border=\"1\" class=\"dataframe\">\n",
       "  <thead>\n",
       "    <tr style=\"text-align: right;\">\n",
       "      <th></th>\n",
       "      <th>PassengerId</th>\n",
       "      <th>Survived</th>\n",
       "      <th>Pclass</th>\n",
       "      <th>Name</th>\n",
       "      <th>Sex</th>\n",
       "      <th>Age</th>\n",
       "      <th>SibSp</th>\n",
       "      <th>Parch</th>\n",
       "      <th>Ticket</th>\n",
       "      <th>Fare</th>\n",
       "      <th>Cabin</th>\n",
       "      <th>Embarked</th>\n",
       "      <th>Pclass_2</th>\n",
       "      <th>Pclass_3</th>\n",
       "      <th>Fare_log</th>\n",
       "      <th>FamilySize</th>\n",
       "      <th>FamilySizeGroup</th>\n",
       "    </tr>\n",
       "  </thead>\n",
       "  <tbody>\n",
       "    <tr>\n",
       "      <th>0</th>\n",
       "      <td>1</td>\n",
       "      <td>0</td>\n",
       "      <td>3</td>\n",
       "      <td>Braund, Mr. Owen Harris</td>\n",
       "      <td>male</td>\n",
       "      <td>22.0</td>\n",
       "      <td>1</td>\n",
       "      <td>0</td>\n",
       "      <td>A/5 21171</td>\n",
       "      <td>7.2500</td>\n",
       "      <td>NaN</td>\n",
       "      <td>S</td>\n",
       "      <td>0</td>\n",
       "      <td>1</td>\n",
       "      <td>2.110213</td>\n",
       "      <td>2</td>\n",
       "      <td>Small</td>\n",
       "    </tr>\n",
       "    <tr>\n",
       "      <th>1</th>\n",
       "      <td>2</td>\n",
       "      <td>1</td>\n",
       "      <td>1</td>\n",
       "      <td>Cumings, Mrs. John Bradley (Florence Briggs Th...</td>\n",
       "      <td>female</td>\n",
       "      <td>38.0</td>\n",
       "      <td>1</td>\n",
       "      <td>0</td>\n",
       "      <td>PC 17599</td>\n",
       "      <td>71.2833</td>\n",
       "      <td>C85</td>\n",
       "      <td>C</td>\n",
       "      <td>0</td>\n",
       "      <td>0</td>\n",
       "      <td>4.280593</td>\n",
       "      <td>2</td>\n",
       "      <td>Small</td>\n",
       "    </tr>\n",
       "    <tr>\n",
       "      <th>2</th>\n",
       "      <td>3</td>\n",
       "      <td>1</td>\n",
       "      <td>3</td>\n",
       "      <td>Heikkinen, Miss. Laina</td>\n",
       "      <td>female</td>\n",
       "      <td>26.0</td>\n",
       "      <td>0</td>\n",
       "      <td>0</td>\n",
       "      <td>STON/O2. 3101282</td>\n",
       "      <td>7.9250</td>\n",
       "      <td>NaN</td>\n",
       "      <td>S</td>\n",
       "      <td>0</td>\n",
       "      <td>1</td>\n",
       "      <td>2.188856</td>\n",
       "      <td>1</td>\n",
       "      <td>Alone</td>\n",
       "    </tr>\n",
       "    <tr>\n",
       "      <th>3</th>\n",
       "      <td>4</td>\n",
       "      <td>1</td>\n",
       "      <td>1</td>\n",
       "      <td>Futrelle, Mrs. Jacques Heath (Lily May Peel)</td>\n",
       "      <td>female</td>\n",
       "      <td>35.0</td>\n",
       "      <td>1</td>\n",
       "      <td>0</td>\n",
       "      <td>113803</td>\n",
       "      <td>53.1000</td>\n",
       "      <td>C123</td>\n",
       "      <td>S</td>\n",
       "      <td>0</td>\n",
       "      <td>0</td>\n",
       "      <td>3.990834</td>\n",
       "      <td>2</td>\n",
       "      <td>Small</td>\n",
       "    </tr>\n",
       "    <tr>\n",
       "      <th>4</th>\n",
       "      <td>5</td>\n",
       "      <td>0</td>\n",
       "      <td>3</td>\n",
       "      <td>Allen, Mr. William Henry</td>\n",
       "      <td>male</td>\n",
       "      <td>35.0</td>\n",
       "      <td>0</td>\n",
       "      <td>0</td>\n",
       "      <td>373450</td>\n",
       "      <td>8.0500</td>\n",
       "      <td>NaN</td>\n",
       "      <td>S</td>\n",
       "      <td>0</td>\n",
       "      <td>1</td>\n",
       "      <td>2.202765</td>\n",
       "      <td>1</td>\n",
       "      <td>Alone</td>\n",
       "    </tr>\n",
       "    <tr>\n",
       "      <th>...</th>\n",
       "      <td>...</td>\n",
       "      <td>...</td>\n",
       "      <td>...</td>\n",
       "      <td>...</td>\n",
       "      <td>...</td>\n",
       "      <td>...</td>\n",
       "      <td>...</td>\n",
       "      <td>...</td>\n",
       "      <td>...</td>\n",
       "      <td>...</td>\n",
       "      <td>...</td>\n",
       "      <td>...</td>\n",
       "      <td>...</td>\n",
       "      <td>...</td>\n",
       "      <td>...</td>\n",
       "      <td>...</td>\n",
       "      <td>...</td>\n",
       "    </tr>\n",
       "    <tr>\n",
       "      <th>886</th>\n",
       "      <td>887</td>\n",
       "      <td>0</td>\n",
       "      <td>2</td>\n",
       "      <td>Montvila, Rev. Juozas</td>\n",
       "      <td>male</td>\n",
       "      <td>27.0</td>\n",
       "      <td>0</td>\n",
       "      <td>0</td>\n",
       "      <td>211536</td>\n",
       "      <td>13.0000</td>\n",
       "      <td>NaN</td>\n",
       "      <td>S</td>\n",
       "      <td>1</td>\n",
       "      <td>0</td>\n",
       "      <td>2.639057</td>\n",
       "      <td>1</td>\n",
       "      <td>Alone</td>\n",
       "    </tr>\n",
       "    <tr>\n",
       "      <th>887</th>\n",
       "      <td>888</td>\n",
       "      <td>1</td>\n",
       "      <td>1</td>\n",
       "      <td>Graham, Miss. Margaret Edith</td>\n",
       "      <td>female</td>\n",
       "      <td>19.0</td>\n",
       "      <td>0</td>\n",
       "      <td>0</td>\n",
       "      <td>112053</td>\n",
       "      <td>30.0000</td>\n",
       "      <td>B42</td>\n",
       "      <td>S</td>\n",
       "      <td>0</td>\n",
       "      <td>0</td>\n",
       "      <td>3.433987</td>\n",
       "      <td>1</td>\n",
       "      <td>Alone</td>\n",
       "    </tr>\n",
       "    <tr>\n",
       "      <th>888</th>\n",
       "      <td>889</td>\n",
       "      <td>0</td>\n",
       "      <td>3</td>\n",
       "      <td>Johnston, Miss. Catherine Helen \"Carrie\"</td>\n",
       "      <td>female</td>\n",
       "      <td>27.0</td>\n",
       "      <td>1</td>\n",
       "      <td>2</td>\n",
       "      <td>W./C. 6607</td>\n",
       "      <td>23.4500</td>\n",
       "      <td>NaN</td>\n",
       "      <td>S</td>\n",
       "      <td>0</td>\n",
       "      <td>1</td>\n",
       "      <td>3.196630</td>\n",
       "      <td>4</td>\n",
       "      <td>Small</td>\n",
       "    </tr>\n",
       "    <tr>\n",
       "      <th>889</th>\n",
       "      <td>890</td>\n",
       "      <td>1</td>\n",
       "      <td>1</td>\n",
       "      <td>Behr, Mr. Karl Howell</td>\n",
       "      <td>male</td>\n",
       "      <td>26.0</td>\n",
       "      <td>0</td>\n",
       "      <td>0</td>\n",
       "      <td>111369</td>\n",
       "      <td>30.0000</td>\n",
       "      <td>C148</td>\n",
       "      <td>C</td>\n",
       "      <td>0</td>\n",
       "      <td>0</td>\n",
       "      <td>3.433987</td>\n",
       "      <td>1</td>\n",
       "      <td>Alone</td>\n",
       "    </tr>\n",
       "    <tr>\n",
       "      <th>890</th>\n",
       "      <td>891</td>\n",
       "      <td>0</td>\n",
       "      <td>3</td>\n",
       "      <td>Dooley, Mr. Patrick</td>\n",
       "      <td>male</td>\n",
       "      <td>32.0</td>\n",
       "      <td>0</td>\n",
       "      <td>0</td>\n",
       "      <td>370376</td>\n",
       "      <td>7.7500</td>\n",
       "      <td>NaN</td>\n",
       "      <td>Q</td>\n",
       "      <td>0</td>\n",
       "      <td>1</td>\n",
       "      <td>2.169054</td>\n",
       "      <td>1</td>\n",
       "      <td>Alone</td>\n",
       "    </tr>\n",
       "  </tbody>\n",
       "</table>\n",
       "<p>891 rows × 17 columns</p>\n",
       "</div>"
      ],
      "text/plain": [
       "     PassengerId  Survived  Pclass  \\\n",
       "0              1         0       3   \n",
       "1              2         1       1   \n",
       "2              3         1       3   \n",
       "3              4         1       1   \n",
       "4              5         0       3   \n",
       "..           ...       ...     ...   \n",
       "886          887         0       2   \n",
       "887          888         1       1   \n",
       "888          889         0       3   \n",
       "889          890         1       1   \n",
       "890          891         0       3   \n",
       "\n",
       "                                                  Name     Sex   Age  SibSp  \\\n",
       "0                              Braund, Mr. Owen Harris    male  22.0      1   \n",
       "1    Cumings, Mrs. John Bradley (Florence Briggs Th...  female  38.0      1   \n",
       "2                               Heikkinen, Miss. Laina  female  26.0      0   \n",
       "3         Futrelle, Mrs. Jacques Heath (Lily May Peel)  female  35.0      1   \n",
       "4                             Allen, Mr. William Henry    male  35.0      0   \n",
       "..                                                 ...     ...   ...    ...   \n",
       "886                              Montvila, Rev. Juozas    male  27.0      0   \n",
       "887                       Graham, Miss. Margaret Edith  female  19.0      0   \n",
       "888           Johnston, Miss. Catherine Helen \"Carrie\"  female  27.0      1   \n",
       "889                              Behr, Mr. Karl Howell    male  26.0      0   \n",
       "890                                Dooley, Mr. Patrick    male  32.0      0   \n",
       "\n",
       "     Parch            Ticket     Fare Cabin Embarked  Pclass_2  Pclass_3  \\\n",
       "0        0         A/5 21171   7.2500   NaN        S         0         1   \n",
       "1        0          PC 17599  71.2833   C85        C         0         0   \n",
       "2        0  STON/O2. 3101282   7.9250   NaN        S         0         1   \n",
       "3        0            113803  53.1000  C123        S         0         0   \n",
       "4        0            373450   8.0500   NaN        S         0         1   \n",
       "..     ...               ...      ...   ...      ...       ...       ...   \n",
       "886      0            211536  13.0000   NaN        S         1         0   \n",
       "887      0            112053  30.0000   B42        S         0         0   \n",
       "888      2        W./C. 6607  23.4500   NaN        S         0         1   \n",
       "889      0            111369  30.0000  C148        C         0         0   \n",
       "890      0            370376   7.7500   NaN        Q         0         1   \n",
       "\n",
       "     Fare_log  FamilySize FamilySizeGroup  \n",
       "0    2.110213           2           Small  \n",
       "1    4.280593           2           Small  \n",
       "2    2.188856           1           Alone  \n",
       "3    3.990834           2           Small  \n",
       "4    2.202765           1           Alone  \n",
       "..        ...         ...             ...  \n",
       "886  2.639057           1           Alone  \n",
       "887  3.433987           1           Alone  \n",
       "888  3.196630           4           Small  \n",
       "889  3.433987           1           Alone  \n",
       "890  2.169054           1           Alone  \n",
       "\n",
       "[891 rows x 17 columns]"
      ]
     },
     "execution_count": 29,
     "metadata": {},
     "output_type": "execute_result"
    }
   ],
   "source": [
    "# Bin Family Size\n",
    "\n",
    "def bin_family_size(size):\n",
    "    if size == 1:\n",
    "        return 'Alone'\n",
    "    elif size <= 4:\n",
    "        return 'Small'\n",
    "    else:\n",
    "        return 'Large'\n",
    "\n",
    "train['FamilySizeGroup'] = train['FamilySize'].apply(bin_family_size)\n",
    "\n",
    "train['FamilySizeGroup'].value_counts()\n",
    "\n",
    "train"
   ]
  },
  {
   "cell_type": "code",
   "execution_count": 30,
   "id": "55ef3f56",
   "metadata": {},
   "outputs": [
    {
     "name": "stdout",
     "output_type": "stream",
     "text": [
      "FamilySizeGroup\n",
      "Alone    0.303538\n",
      "Large    0.161290\n",
      "Small    0.578767\n",
      "Name: Survived, dtype: float64\n"
     ]
    }
   ],
   "source": [
    "print(train.groupby('FamilySizeGroup')['Survived'].mean())"
   ]
  },
  {
   "cell_type": "code",
   "execution_count": 31,
   "id": "eb111a65",
   "metadata": {},
   "outputs": [
    {
     "data": {
      "image/png": "[encoded data removed]",
      "text/plain": [
       "<Figure size 640x480 with 1 Axes>"
      ]
     },
     "metadata": {},
     "output_type": "display_data"
    }
   ],
   "source": [
    "sns.barplot(x='FamilySizeGroup', y='Survived', data=train)\n",
    "plt.title('Survival Rate by Family Size Group')\n",
    "plt.ylabel('Survival Rate')\n",
    "plt.xlabel('Family Size Group')\n",
    "plt.show()"
   ]
  },
  {
   "cell_type": "code",
   "execution_count": 32,
   "id": "762c9f96",
   "metadata": {},
   "outputs": [
    {
     "name": "stdout",
     "output_type": "stream",
     "text": [
      "Chi-Square Statistic: 74.5372490469824\n",
      "p-value: 6.522919536640471e-17\n",
      "Cramer's V: 0.285\n"
     ]
    }
   ],
   "source": [
    "# Create contingency table\n",
    "table = pd.crosstab(train['FamilySizeGroup'], train['Survived'])\n",
    "\n",
    "# Run the test\n",
    "#chi2, p, dof, expected = chi2_contingency(table)\n",
    "\n",
    "chi2, p, dof, expected = chi_sqr_test(train['FamilySizeGroup'], train['Survived'])\n",
    "\n",
    "print(f\"Chi-Square Statistic: {chi2}\")\n",
    "print(f\"p-value: {p}\")\n",
    "\n",
    "# Perform Cramer's V\n",
    "\n",
    "# Step 1: Create the contingency table\n",
    "contingency = pd.crosstab(train['FamilySizeGroup'], train['Survived'])\n",
    "\n",
    "# Step 2: Perform chi-square test\n",
    "chi2, p, dof, expected = chi2_contingency(contingency)\n",
    "\n",
    "# Step 3: Compute Cramer's V\n",
    "n = contingency.sum().sum()\n",
    "phi2 = chi2 / n\n",
    "r, k = contingency.shape\n",
    "phi2corr = max(0, phi2 - ((k - 1)*(r - 1)) / (n - 1))  # Bias correction\n",
    "rcorr = r - ((r - 1)**2) / (n - 1)\n",
    "kcorr = k - ((k - 1)**2) / (n - 1)\n",
    "cramers_v = np.sqrt(phi2corr / min((kcorr - 1), (rcorr - 1)))\n",
    "print(f\"Cramer's V: {cramers_v:.3f}\")"
   ]
  },
  {
   "cell_type": "markdown",
   "id": "848e22d8",
   "metadata": {},
   "source": [
    "Survival Rate by Family Size Group:\n",
    "- Small families had the best survival rate,\n",
    "- Large families had the worst,\n",
    "- Individuals alone were somewhere in between.\n",
    "\n",
    "Chi-Square Test:\n",
    "- Extremely low p-value → The relationship between FamilySizeGroup and Survived is statistically significant.\n",
    "- That confirms a dependence between these variables.\n",
    "\n",
    "Cramer's V at 0.285, the relationship between FamilySizeGroup and Survived is:\n",
    "- Statistically significant (from your Chi-Square test)\n",
    "- Moderately strong in practical terms (Cramer’s V just below 0.3)"
   ]
  },
  {
   "cell_type": "markdown",
   "id": "c3c1fb45",
   "metadata": {},
   "source": [
    "#### Step 3: Correlation Analysis"
   ]
  },
  {
   "cell_type": "code",
   "execution_count": 33,
   "id": "573d1dff",
   "metadata": {},
   "outputs": [
    {
     "data": {
      "image/png": "[encoded data removed]",
      "text/plain": [
       "<Figure size 800x600 with 2 Axes>"
      ]
     },
     "metadata": {},
     "output_type": "display_data"
    }
   ],
   "source": [
    "# Only select the numeric features\n",
    "num_cols = ['Age', 'Fare_log', 'SibSp', 'Parch', 'FamilySize']\n",
    "\n",
    "# Pearson correlation matrix\n",
    "corr = train[num_cols].corr()\n",
    "\n",
    "# Plot heatmap\n",
    "plt.figure(figsize=(8, 6))\n",
    "sns.heatmap(corr, annot=True, cmap='coolwarm')\n",
    "plt.title(\"Correlation Between Numeric Features\")\n",
    "plt.show()"
   ]
  },
  {
   "cell_type": "code",
   "execution_count": 34,
   "id": "63aab076",
   "metadata": {},
   "outputs": [
    {
     "name": "stdout",
     "output_type": "stream",
     "text": [
      "Age: correlation = -0.073, p-value = 0.02869\n",
      "Fare_log: correlation = 0.330, p-value = 0.00000\n",
      "SibSp: correlation = -0.035, p-value = 0.29224\n",
      "Parch: correlation = 0.082, p-value = 0.01480\n",
      "FamilySize: correlation = 0.017, p-value = 0.61989\n"
     ]
    }
   ],
   "source": [
    "from scipy.stats import pointbiserialr\n",
    "\n",
    "target = 'Survived'\n",
    "features = ['Age', 'Fare_log', 'SibSp', 'Parch', 'FamilySize']\n",
    "\n",
    "for feature in features:\n",
    "    corr, pval = pointbiserialr(train[feature], train[target])\n",
    "    print(f\"{feature}: correlation = {corr:.3f}, p-value = {pval:.5f}\")"
   ]
  },
  {
   "cell_type": "markdown",
   "id": "d6563be6",
   "metadata": {},
   "source": [
    "#### Interpretation for Correlation Analysis\n",
    "\n",
    "|  Pair  |  Correlation  |  Interpretation  |\n",
    "|----|----|----|\n",
    "|  SibSp <-> FamilySize  |  0.89  |  Very high correlation (redundant)  |\n",
    "|  Parch <-> FamilySize  |  0.78  |  Also high - strong overlap  |\n",
    "|  SibSp <-> Parch  |  0.41  |  Moderate correlation  |\n",
    "|  Fare_log <-> FamilySize  |  0.38  |  Mild correlation  |\n",
    "|  Age <-> others  |  Low to mild negative correlation - Age is fairly independent  |    |\n",
    "\n",
    "Redundancy Detected:\n",
    "- FamilySize is derived from SibSp + Parch, so high correlation is expected.\n",
    "- Including all three together in your model (especially linear models) can cause multicollinearity → bad for model interpretability and performance.\n",
    "\n",
    "Recommendation Based on Matrix:\n",
    "- Keep only one of these three for modeling:\n",
    "    - Preferred: FamilySize (simpler, cleaner)\n",
    "    - Drop or ignore SibSp and Parch unless modeling calls for them\n",
    "\n",
    "### Interpreting Correlation Values\n",
    "\n",
    "The correlation score (usually between -1 and +1) tells you:\n",
    "\n",
    "|  Correlation  |  Meaning  |\n",
    "|----|----|\n",
    "|  +1.0  |  Perfect positive correlation  |\n",
    "|  +0.7 to +0.9  |  Strong positive correlation  |\n",
    "|  +0.3 to +0.6  |  Moderate positive correlation  |\n",
    "|  0.0  |  No correlation (independent)  |\n",
    "|  -0.3 to -0.6  |  Moderate negative correlation  |\n",
    "|  -0.7 to -0.9  |  Strong negative correlation  |\n",
    "|  -1.0  |  Perfect negative correlation  |\n",
    "\n",
    "- Positive means both increase together (e.g., Fare ↑ → Survival ↑).\n",
    "- Negative means one increases while the other decreases (e.g., Age ↑ → Survival ↓).\n",
    "\n",
    "\n",
    "#### Interpretation for Point-Biserial Correlation (vs. Survived)\n",
    "\n",
    "\n",
    "| Feature       | Correlation | p-value   | Significant? | Interpretation                                    |\n",
    "|---------------|-------------|-----------|---------------|--------------------------------------------------|\n",
    "| Age           | -0.073      | 0.02869   | Yes         | Weak negative correlation — younger survived more |\n",
    "| Fare_log      | 0.330 | 0.00000   | Yes         | Strong positive correlation — higher fare survived |\n",
    "| SibSp         | -0.035      | 0.29224   | No          | Not predictive                                   |\n",
    "| Parch         | 0.082       | 0.01480   | Yes         | Slightly positive, weak predictor                |\n",
    "| FamilySize    | 0.017       | 0.61989   | No          | No linear correlation — better used in binned form |\n",
    "\n",
    "Recommendation:\n",
    "- Use: `Fare_log`, `Age`\n",
    "- Use: `FamilySizeGroup` (binned version)\n",
    "- Skip: raw `FamilySize`, `SibSp`, `Parch`\n"
   ]
  },
  {
   "cell_type": "markdown",
   "id": "06977e0f",
   "metadata": {},
   "source": [
    "### Recap\n",
    "\n",
    "Based on our findings, the following fields are to be included in our model\n",
    "\n",
    "- Sex            : Strong (Cramer's V = 0.54)\n",
    "- Embarked       : Weak but statistically significant (p < 0.05)\n",
    "- Pclass         : Moderate predictor (MI and Chi-Square supported)\n",
    "- Age            : Weak correlation but still significant (point-biserial)\n",
    "- Fare_log       : Strong correlation (0.33), transformed from Fare\n",
    "- FamilySizeGroup (one-hot encoded) : Confirmed via Chi-Square & Cramer's V\n",
    "\n",
    "We didn't use the following due to the following reasons:\n",
    "\n",
    "- Fare  : Use Fare_log instead (normalized, less skewed)\n",
    "- SibSp and Parch   : Redundant with FamilySize; weak predictor\n",
    "- Cabin and Ticket  : High cardinality, high missing, weak value\n",
    "\n"
   ]
  },
  {
   "cell_type": "markdown",
   "id": "2d51facc",
   "metadata": {},
   "source": [
    "## Perform Mutual Information\n",
    "\n",
    "### Mutual Information\n",
    "\n",
    "Mutual Information helps select the best features for modeling.\n",
    "\n",
    "#### Intuition:\n",
    "- Mutual Information measures how much information one variable provides about another.\n",
    "- Unlike correlation (linear relationships only), MI can detect non-linear relationships as well.\n",
    "- MI = 0 → Variables are completely independent.\n",
    "- Higher MI → Stronger relationship or dependency.\n",
    "\n",
    "#### Why use Mutual Information?\n",
    "- To identify important features, especially when relationships are complex.\n",
    "- Useful for both categorical and numerical features.\n",
    "- Works very well with categorical data.\n",
    "\n",
    "#### Interpretation:\n",
    "- Look for high-scoring features.\n",
    "- Prioritize features with higher MI scores when selecting features for your ML model.\n",
    "\n"
   ]
  },
  {
   "cell_type": "code",
   "execution_count": 35,
   "id": "7fb06e2b",
   "metadata": {},
   "outputs": [
    {
     "name": "stdout",
     "output_type": "stream",
     "text": [
      "                 Feature  Mutual Information\n",
      "1               Sex_male            0.150870\n",
      "0                 Pclass            0.058107\n",
      "5  FamilySizeGroup_Small            0.038738\n",
      "3             Embarked_S            0.011925\n",
      "4  FamilySizeGroup_Large            0.008807\n",
      "2             Embarked_Q            0.000007\n"
     ]
    }
   ],
   "source": [
    "from sklearn.feature_selection import mutual_info_classif\n",
    "\n",
    "# Sample Data (assuming df is your Titanic dataframe)\n",
    "categorical_features = ['Sex', 'Embarked', 'Pclass', 'FamilySizeGroup', ]\n",
    "X_cat = pd.get_dummies(train[categorical_features], drop_first=True)\n",
    "y = train['Survived']\n",
    "\n",
    "# Compute Mutual Information\n",
    "mi_scores = mutual_info_classif(X_cat, y, discrete_features=True)\n",
    "\n",
    "# Organize results into a DataFrame\n",
    "mi_df = pd.DataFrame({\n",
    "    'Feature': X_cat.columns,\n",
    "    'Mutual Information': mi_scores\n",
    "}).sort_values(by='Mutual Information', ascending=False)\n",
    "\n",
    "print(mi_df)"
   ]
  },
  {
   "cell_type": "markdown",
   "id": "a3d668ea",
   "metadata": {},
   "source": [
    "#### Mutual Information (Categorical Features)\n",
    "\n",
    "| Feature                  | MI Score   | Interpretation                              |\n",
    "|--------------------------|------------|----------------------------------------------|\n",
    "| `Sex_male`               | 0.151      | ✅ Strong predictor                          |\n",
    "| `Pclass`                 | 0.058      | ✅ Moderate predictor                        |\n",
    "| `FamilySizeGroup_Small`  | 0.039      | ✅ Adds moderate value                       |\n",
    "| `Embarked_S`             | 0.012      | ⚠️ Weak but acceptable                       |\n",
    "| `FamilySizeGroup_Large`  | 0.009      | ⚠️ Weak — optional depending on model        |\n",
    "| `Embarked_Q`             | 0.000      | ❌ Negligible — candidate for removal        |\n",
    "\n",
    "#### Final Categorical Feature Selection (Based on MI + EDA)\n",
    "\n",
    "| Feature                     | Keep? | Reason                                          |\n",
    "|-----------------------------|--------|--------------------------------------------------|\n",
    "| `Sex_male`                  | ✅     | Strong MI, confirmed by statistical tests        |\n",
    "| `Pclass`                    | ✅     | Moderate MI, widely used in Titanic models       |\n",
    "| `FamilySizeGroup_Small`     | ✅     | Moderate MI, matches with survival patterns      |\n",
    "| `FamilySizeGroup_Large`     | ✅ or ⚠️ | Weak MI, but supported by Chi-Square survival gap |\n",
    "| `Embarked_S`                | ✅     | Weak MI, but still valuable for tree-based models|\n",
    "| `Embarked_Q`                | ❌     | Negligible MI — can be dropped                   |"
   ]
  },
  {
   "cell_type": "code",
   "execution_count": 36,
   "id": "cf965ac1",
   "metadata": {},
   "outputs": [],
   "source": [
    "# Create a function to apply cleanup\n",
    "\n",
    "def preprocess_features(df):\n",
    "    # 1. Fill missing Age and Fare using training medians\n",
    "    df['Age'] = df.groupby(['Pclass', 'Sex'])['Age'].transform(\n",
    "        lambda x: x.fillna(x.median())\n",
    "    )\n",
    "    \n",
    "    # 2. Log transform Fare\n",
    "    df['Fare_log'] = df['Fare'].apply(lambda x: np.log(x + 1))\n",
    "\n",
    "    # 3. Create FamilySize\n",
    "    df['FamilySize'] = df['SibSp'] + df['Parch'] + 1\n",
    "\n",
    "    # 4. Create FamilySizeGroup (manual binning)\n",
    "    def bin_family_size(size):\n",
    "        if size == 1:\n",
    "            return 'Alone'\n",
    "        elif size <= 4:\n",
    "            return 'Small'\n",
    "        else:\n",
    "            return 'Large'\n",
    "    df['FamilySizeGroup'] = df['FamilySize'].apply(bin_family_size)\n",
    "\n",
    "    # 5. Fill missing Embarked (if any) This is required for doing one-hot encoding\n",
    "    df['Embarked'] = df['Embarked'].fillna(df['Embarked'].mode()[0])\n",
    "\n",
    "    # 6. One-hot encode: Sex, Embarked, FamilySizeGroup\n",
    "    df = pd.get_dummies(df, columns=['Sex', 'Embarked', 'FamilySizeGroup'], drop_first=True)\n",
    "\n",
    "    bool_cols = df.select_dtypes(include='bool').columns\n",
    "    df[bool_cols] = df[bool_cols].astype(int)\n",
    "\n",
    "    # 7. Drop unused columns (optional)\n",
    "    drop_cols = ['Name', 'Ticket', 'Cabin', 'Fare', 'SibSp', 'Parch', 'PassengerId']\n",
    "    df = df.drop(columns=[col for col in drop_cols if col in df.columns], errors='ignore')\n",
    "\n",
    "    return df"
   ]
  },
  {
   "cell_type": "code",
   "execution_count": 37,
   "id": "540de0bf",
   "metadata": {},
   "outputs": [],
   "source": [
    "train_cleaned = preprocess_features(train_raw.copy())\n",
    "test_cleaned = preprocess_features(test.copy())"
   ]
  },
  {
   "cell_type": "code",
   "execution_count": 38,
   "id": "697cdb6f",
   "metadata": {},
   "outputs": [],
   "source": [
    "# Save cleaned training data\n",
    "train_cleaned.to_csv(r'../data/train_cleaned.csv', index=False)\n",
    "\n",
    "# Save cleaned test data\n",
    "test_cleaned.to_csv(r'../data/test_cleaned.csv', index=False)"
   ]
  },
  {
   "cell_type": "markdown",
   "id": "9bc12528",
   "metadata": {},
   "source": [
    "# Summary\n",
    "\n",
    "- We have performed Exploratory Data Analysis\n",
    "- We perform Data Preparation and Cleanup\n",
    "- We perform Feature Engineering\n",
    "- We prepare the data to start our modelling\n"
   ]
  }
 ],
 "metadata": {
  "kernelspec": {
   "display_name": ".venv",
   "language": "python",
   "name": "python3"
  },
  "language_info": {
   "codemirror_mode": {
    "name": "ipython",
    "version": 3
   },
   "file_extension": ".py",
   "mimetype": "text/x-python",
   "name": "python",
   "nbconvert_exporter": "python",
   "pygments_lexer": "ipython3",
   "version": "3.13.3"
  }
 },
 "nbformat": 4,
 "nbformat_minor": 5
}
